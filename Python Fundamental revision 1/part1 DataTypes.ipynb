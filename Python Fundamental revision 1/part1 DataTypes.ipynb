{
 "cells": [
  {
   "cell_type": "code",
   "execution_count": 1,
   "metadata": {},
   "outputs": [
    {
     "name": "stdout",
     "output_type": "stream",
     "text": [
      "Name: mikael, Age: 12, Height: 5.4, Is Student: True\n"
     ]
    }
   ],
   "source": [
    "name = 'mikael' # string\n",
    "age = 12 # int\n",
    "height = 5.4 # float\n",
    "is_student = True # bool\n",
    "\n",
    "print(f'Name: {name}, Age: {age}, Height: {height}, Is Student: {is_student}') # formatted string output"
   ]
  },
  {
   "cell_type": "code",
   "execution_count": 3,
   "metadata": {},
   "outputs": [
    {
     "name": "stdout",
     "output_type": "stream",
     "text": [
      "the type of variable name Is <class 'str'>, the type of variable age is <class 'int'>, the type of variable height is <class 'float'>, the type of variable is_student is <class 'bool'>\n"
     ]
    }
   ],
   "source": [
    "print(f'the type of variable name Is {type(name)}, the type of variable age is {type(age)}, the type of variable height is {type(height)}, the type of variable is_student is {type(is_student)}') # formatted string output"
   ]
  },
  {
   "cell_type": "code",
   "execution_count": 4,
   "metadata": {},
   "outputs": [
    {
     "name": "stdout",
     "output_type": "stream",
     "text": [
      "The sum of 123 and 456 is 579\n",
      "The concatenated string is HelloWorld\n"
     ]
    }
   ],
   "source": [
    "# intialize 2 variables and store two differnet numbers in those variable\n",
    "\n",
    "number1 = 123\n",
    "\n",
    "number2 = 456\n",
    "\n",
    "s  = number1 + number2\n",
    "\n",
    "print(f'The sum of {number1} and {number2} is {s}') # formatted string output\n",
    "\n",
    "# string concatenation\n",
    "\n",
    "string1 = 'Hello'\n",
    "\n",
    "string2 ='World'\n",
    "\n",
    "concatenated_string = string1 + string2\n",
    "\n",
    "print(f'The concatenated string is {concatenated_string}') # formatted string output\n"
   ]
  },
  {
   "cell_type": "code",
   "execution_count": 6,
   "metadata": {},
   "outputs": [
    {
     "name": "stdout",
     "output_type": "stream",
     "text": [
      "123Hello\n"
     ]
    }
   ],
   "source": [
    "print(str(number1)+string1)"
   ]
  },
  {
   "cell_type": "code",
   "execution_count": null,
   "metadata": {},
   "outputs": [
    {
     "ename": "",
     "evalue": "",
     "output_type": "error",
     "traceback": [
      "\u001b[1;31mThe Kernel crashed while executing code in the current cell or a previous cell. \n",
      "\u001b[1;31mPlease review the code in the cell(s) to identify a possible cause of the failure. \n",
      "\u001b[1;31mClick <a href='https://aka.ms/vscodeJupyterKernelCrash'>here</a> for more info. \n",
      "\u001b[1;31mView Jupyter <a href='command:jupyter.viewOutput'>log</a> for further details."
     ]
    }
   ],
   "source": [
    "# string and numerical data"
   ]
  },
  {
   "cell_type": "code",
   "execution_count": null,
   "metadata": {},
   "outputs": [],
   "source": []
  }
 ],
 "metadata": {
  "kernelspec": {
   "display_name": "Python 3",
   "language": "python",
   "name": "python3"
  },
  "language_info": {
   "codemirror_mode": {
    "name": "ipython",
    "version": 3
   },
   "file_extension": ".py",
   "mimetype": "text/x-python",
   "name": "python",
   "nbconvert_exporter": "python",
   "pygments_lexer": "ipython3",
   "version": "3.11.9"
  }
 },
 "nbformat": 4,
 "nbformat_minor": 2
}
