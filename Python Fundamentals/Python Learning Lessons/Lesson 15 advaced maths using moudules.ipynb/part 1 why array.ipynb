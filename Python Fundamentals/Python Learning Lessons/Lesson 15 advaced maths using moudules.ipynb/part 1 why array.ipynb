{
 "cells": [
  {
   "cell_type": "code",
   "execution_count": 6,
   "metadata": {},
   "outputs": [
    {
     "data": {
      "text/plain": [
       "(1, 2, 3, 4, 5, 1, 2, 3, 4, 5, 1, 2, 3, 4, 5, 1, 2, 3, 4, 5, 1, 2, 3, 4, 5)"
      ]
     },
     "execution_count": 6,
     "metadata": {},
     "output_type": "execute_result"
    }
   ],
   "source": [
    "numbers = (1,2,3,4,5)\n",
    "numbers*5\n",
    "#numbers/5"
   ]
  },
  {
   "cell_type": "code",
   "execution_count": 8,
   "metadata": {},
   "outputs": [],
   "source": [
    "# external module to change this builtin data structures to array where youc an perform mathematical operators"
   ]
  },
  {
   "cell_type": "markdown",
   "metadata": {},
   "source": [
    "numpy is used to perform a big varity of mathimatical operaters on arrays, numpy is also used because it is 50 times faster then the python lists"
   ]
  },
  {
   "cell_type": "code",
   "execution_count": 12,
   "metadata": {},
   "outputs": [
    {
     "name": "stdout",
     "output_type": "stream",
     "text": [
      "Requirement already satisfied: numpy in c:\\users\\mikael\\appdata\\local\\programs\\python\\python312\\lib\\site-packages (1.26.4)Note: you may need to restart the kernel to use updated packages.\n"
     ]
    },
    {
     "name": "stderr",
     "output_type": "stream",
     "text": [
      "\n",
      "[notice] A new release of pip is available: 23.2.1 -> 24.0\n",
      "[notice] To update, run: python.exe -m pip install --upgrade pip\n"
     ]
    },
    {
     "name": "stdout",
     "output_type": "stream",
     "text": [
      "\n"
     ]
    }
   ],
   "source": [
    "pip install numpy"
   ]
  },
  {
   "cell_type": "code",
   "execution_count": 13,
   "metadata": {},
   "outputs": [],
   "source": [
    "import numpy as np"
   ]
  },
  {
   "cell_type": "code",
   "execution_count": 12,
   "metadata": {},
   "outputs": [],
   "source": [
    "num2 = np.array(numbers)"
   ]
  },
  {
   "cell_type": "code",
   "execution_count": 13,
   "metadata": {},
   "outputs": [
    {
     "data": {
      "text/plain": [
       "numpy.ndarray"
      ]
     },
     "execution_count": 13,
     "metadata": {},
     "output_type": "execute_result"
    }
   ],
   "source": [
    "type(num2)"
   ]
  },
  {
   "cell_type": "code",
   "execution_count": 16,
   "metadata": {},
   "outputs": [
    {
     "data": {
      "text/plain": [
       "array([ 5, 10, 15, 20, 25])"
      ]
     },
     "execution_count": 16,
     "metadata": {},
     "output_type": "execute_result"
    }
   ],
   "source": [
    "num2*5"
   ]
  },
  {
   "cell_type": "code",
   "execution_count": 17,
   "metadata": {},
   "outputs": [
    {
     "data": {
      "text/plain": [
       "array([0.2, 0.4, 0.6, 0.8, 1. ])"
      ]
     },
     "execution_count": 17,
     "metadata": {},
     "output_type": "execute_result"
    }
   ],
   "source": [
    "num2/5"
   ]
  },
  {
   "cell_type": "markdown",
   "metadata": {},
   "source": []
  },
  {
   "cell_type": "code",
   "execution_count": 18,
   "metadata": {},
   "outputs": [],
   "source": [
    "num3 = np.array([40,45,60,60,75,25])"
   ]
  },
  {
   "cell_type": "code",
   "execution_count": 19,
   "metadata": {},
   "outputs": [],
   "source": [
    "# add substract, divide and multiple num2 and num 3 "
   ]
  },
  {
   "cell_type": "code",
   "execution_count": 20,
   "metadata": {},
   "outputs": [
    {
     "data": {
      "text/plain": [
       "array([0.025     , 0.04444444, 0.05      , 0.05333333, 0.2       ])"
      ]
     },
     "execution_count": 20,
     "metadata": {},
     "output_type": "execute_result"
    }
   ],
   "source": [
    "num2/num3"
   ]
  },
  {
   "cell_type": "code",
   "execution_count": 21,
   "metadata": {},
   "outputs": [
    {
     "data": {
      "text/plain": [
       "array([41, 47, 63, 79, 30])"
      ]
     },
     "execution_count": 21,
     "metadata": {},
     "output_type": "execute_result"
    }
   ],
   "source": [
    "num2+num3"
   ]
  },
  {
   "cell_type": "code",
   "execution_count": 22,
   "metadata": {},
   "outputs": [
    {
     "data": {
      "text/plain": [
       "array([-39, -43, -57, -71, -20])"
      ]
     },
     "execution_count": 22,
     "metadata": {},
     "output_type": "execute_result"
    }
   ],
   "source": [
    "num2 - num3"
   ]
  },
  {
   "cell_type": "code",
   "execution_count": 23,
   "metadata": {},
   "outputs": [
    {
     "data": {
      "text/plain": [
       "array([ 40,  90, 180, 300, 125])"
      ]
     },
     "execution_count": 23,
     "metadata": {},
     "output_type": "execute_result"
    }
   ],
   "source": [
    "num2*num3"
   ]
  },
  {
   "cell_type": "code",
   "execution_count": 24,
   "metadata": {},
   "outputs": [],
   "source": [
    "# there is a function of numpy with whcih you can find average "
   ]
  },
  {
   "cell_type": "code",
   "execution_count": 26,
   "metadata": {},
   "outputs": [
    {
     "data": {
      "text/plain": [
       "3.0"
      ]
     },
     "execution_count": 26,
     "metadata": {},
     "output_type": "execute_result"
    }
   ],
   "source": [
    "num2.mean()"
   ]
  },
  {
   "cell_type": "code",
   "execution_count": 30,
   "metadata": {},
   "outputs": [
    {
     "data": {
      "text/plain": [
       "45.0"
      ]
     },
     "execution_count": 30,
     "metadata": {},
     "output_type": "execute_result"
    }
   ],
   "source": [
    "np.median(num3)"
   ]
  },
  {
   "cell_type": "code",
   "execution_count": 37,
   "metadata": {},
   "outputs": [
    {
     "name": "stdout",
     "output_type": "stream",
     "text": [
      "Requirement already satisfied: scipy in c:\\users\\mikael\\appdata\\local\\programs\\python\\python312\\lib\\site-packages (1.12.0)Note: you may need to restart the kernel to use updated packages.\n"
     ]
    },
    {
     "name": "stderr",
     "output_type": "stream",
     "text": [
      "\n",
      "[notice] A new release of pip is available: 23.2.1 -> 24.0\n",
      "[notice] To update, run: python.exe -m pip install --upgrade pip\n"
     ]
    },
    {
     "name": "stdout",
     "output_type": "stream",
     "text": [
      "\n",
      "Requirement already satisfied: numpy<1.29.0,>=1.22.4 in c:\\users\\mikael\\appdata\\local\\programs\\python\\python312\\lib\\site-packages (from scipy) (1.26.4)\n"
     ]
    }
   ],
   "source": [
    "pip install scipy"
   ]
  },
  {
   "cell_type": "code",
   "execution_count": 38,
   "metadata": {},
   "outputs": [
    {
     "data": {
      "text/plain": [
       "ModeResult(mode=25, count=1)"
      ]
     },
     "execution_count": 38,
     "metadata": {},
     "output_type": "execute_result"
    }
   ],
   "source": [
    "from scipy import stats\n",
    "stats.mode(num3)"
   ]
  },
  {
   "cell_type": "code",
   "execution_count": 44,
   "metadata": {},
   "outputs": [],
   "source": [
    "x = [100,200,1,5,1000,5000]"
   ]
  },
  {
   "cell_type": "code",
   "execution_count": 45,
   "metadata": {},
   "outputs": [
    {
     "data": {
      "text/plain": [
       "1051.0"
      ]
     },
     "execution_count": 45,
     "metadata": {},
     "output_type": "execute_result"
    }
   ],
   "source": [
    "np.mean(x)"
   ]
  },
  {
   "cell_type": "code",
   "execution_count": 46,
   "metadata": {},
   "outputs": [
    {
     "data": {
      "text/plain": [
       "150.0"
      ]
     },
     "execution_count": 46,
     "metadata": {},
     "output_type": "execute_result"
    }
   ],
   "source": [
    "np.median(x)"
   ]
  },
  {
   "cell_type": "code",
   "execution_count": 48,
   "metadata": {},
   "outputs": [
    {
     "data": {
      "text/plain": [
       "array([   1,    5,  100,  200, 1000, 5000])"
      ]
     },
     "execution_count": 48,
     "metadata": {},
     "output_type": "execute_result"
    }
   ],
   "source": [
    "np.sort(x)"
   ]
  },
  {
   "cell_type": "code",
   "execution_count": null,
   "metadata": {},
   "outputs": [],
   "source": [
    "# make numbers from 0 to 100 with step size of 0.01 .. 0 0.01 0.\n"
   ]
  },
  {
   "cell_type": "code",
   "execution_count": 50,
   "metadata": {},
   "outputs": [
    {
     "data": {
      "text/plain": [
       "range(0, 100)"
      ]
     },
     "execution_count": 50,
     "metadata": {},
     "output_type": "execute_result"
    }
   ],
   "source": [
    "\n",
    "num = range(0,100,1)\n",
    "num"
   ]
  },
  {
   "cell_type": "code",
   "execution_count": 54,
   "metadata": {},
   "outputs": [
    {
     "data": {
      "text/plain": [
       "array([0.00000e+00, 1.00000e-05, 2.00000e-05, ..., 9.99997e+00,\n",
       "       9.99998e+00, 9.99999e+00])"
      ]
     },
     "execution_count": 54,
     "metadata": {},
     "output_type": "execute_result"
    }
   ],
   "source": [
    "num = np.arange(0,10,0.00001)\n",
    "num"
   ]
  },
  {
   "cell_type": "code",
   "execution_count": 55,
   "metadata": {},
   "outputs": [],
   "source": [
    "# from - to 1 make 100 numbers of equance disance"
   ]
  },
  {
   "cell_type": "code",
   "execution_count": 64,
   "metadata": {},
   "outputs": [
    {
     "data": {
      "text/plain": [
       "array([0.000000e+00, 1.000001e-05, 2.000002e-05, ..., 9.999980e+00,\n",
       "       9.999990e+00, 1.000000e+01])"
      ]
     },
     "execution_count": 64,
     "metadata": {},
     "output_type": "execute_result"
    }
   ],
   "source": [
    "nums = np.linspace(0,10,1000000)\n",
    "nums"
   ]
  },
  {
   "cell_type": "code",
   "execution_count": 66,
   "metadata": {},
   "outputs": [
    {
     "name": "stdout",
     "output_type": "stream",
     "text": [
      "20000\n"
     ]
    }
   ],
   "source": [
    "# formula of force \n",
    "# F = mass * accelation\n",
    "m = 100\n",
    "acc = 200\n",
    "f = m*acc\n",
    "print(f)"
   ]
  },
  {
   "cell_type": "code",
   "execution_count": 69,
   "metadata": {},
   "outputs": [
    {
     "name": "stdout",
     "output_type": "stream",
     "text": [
      "[130 460  69 168  10   6  24   3  92   8   6]\n"
     ]
    }
   ],
   "source": [
    "masses = np.array([10,20,3,42,5,2,12,3,4,2,3])\n",
    "qce = np.array([13,23,23,4,2,3,2,1,23,4,2])\n",
    "f = masses*qce\n",
    "print(f)"
   ]
  },
  {
   "cell_type": "code",
   "execution_count": 71,
   "metadata": {},
   "outputs": [
    {
     "name": "stdout",
     "output_type": "stream",
     "text": [
      "Collecting matplotlibNote: you may need to restart the kernel to use updated packages.\n",
      "\n",
      "  Obtaining dependency information for matplotlib from https://files.pythonhosted.org/packages/50/ce/a6bc93f7a44dd1fd23698698e369e141f4f24e7098d0a5937808afee3f5e/matplotlib-3.8.3-cp312-cp312-win_amd64.whl.metadata\n",
      "  Downloading matplotlib-3.8.3-cp312-cp312-win_amd64.whl.metadata (5.9 kB)\n",
      "Collecting contourpy>=1.0.1 (from matplotlib)\n",
      "  Obtaining dependency information for contourpy>=1.0.1 from https://files.pythonhosted.org/packages/8e/ae/a6353db548bff1a592b85ae6bb80275f0a51dc25a0410d059e5b33183e36/contourpy-1.2.0-cp312-cp312-win_amd64.whl.metadata\n",
      "  Downloading contourpy-1.2.0-cp312-cp312-win_amd64.whl.metadata (5.8 kB)\n",
      "Collecting cycler>=0.10 (from matplotlib)\n",
      "  Obtaining dependency information for cycler>=0.10 from https://files.pythonhosted.org/packages/e7/05/c19819d5e3d95294a6f5947fb9b9629efb316b96de511b418c53d245aae6/cycler-0.12.1-py3-none-any.whl.metadata\n",
      "  Downloading cycler-0.12.1-py3-none-any.whl.metadata (3.8 kB)\n",
      "Collecting fonttools>=4.22.0 (from matplotlib)\n",
      "  Obtaining dependency information for fonttools>=4.22.0 from https://files.pythonhosted.org/packages/80/87/a0fc2a2cddd9a4dfd7d9efa182b26d61f97398ac12eb5a8bd255184d85f3/fonttools-4.50.0-cp312-cp312-win_amd64.whl.metadata\n",
      "  Downloading fonttools-4.50.0-cp312-cp312-win_amd64.whl.metadata (162 kB)\n",
      "     ---------------------------------------- 0.0/162.6 kB ? eta -:--:--\n",
      "     ---------------------------------------- 0.0/162.6 kB ? eta -:--:--\n",
      "     -- ------------------------------------- 10.2/162.6 kB ? eta -:--:--\n",
      "     --------- --------------------------- 41.0/162.6 kB 393.8 kB/s eta 0:00:01\n",
      "     ----------------------------------- -- 153.6/162.6 kB 1.1 MB/s eta 0:00:01\n",
      "     ------------------------------------ 162.6/162.6 kB 976.7 kB/s eta 0:00:00\n",
      "Collecting kiwisolver>=1.3.1 (from matplotlib)\n",
      "  Obtaining dependency information for kiwisolver>=1.3.1 from https://files.pythonhosted.org/packages/63/50/2746566bdf4a6a842d117367d05c90cfb87ac04e9e2845aa1fa21f071362/kiwisolver-1.4.5-cp312-cp312-win_amd64.whl.metadata\n",
      "  Downloading kiwisolver-1.4.5-cp312-cp312-win_amd64.whl.metadata (6.5 kB)\n",
      "Requirement already satisfied: numpy<2,>=1.21 in c:\\users\\mikael\\appdata\\local\\programs\\python\\python312\\lib\\site-packages (from matplotlib) (1.26.4)\n",
      "Requirement already satisfied: packaging>=20.0 in c:\\users\\mikael\\appdata\\roaming\\python\\python312\\site-packages (from matplotlib) (23.2)\n",
      "Collecting pillow>=8 (from matplotlib)\n",
      "  Obtaining dependency information for pillow>=8 from https://files.pythonhosted.org/packages/51/07/7e9266a59bb267b56c1f432f6416653b9a78dda771c57740d064a8aa2a44/pillow-10.2.0-cp312-cp312-win_amd64.whl.metadata\n",
      "  Downloading pillow-10.2.0-cp312-cp312-win_amd64.whl.metadata (9.9 kB)\n",
      "Collecting pyparsing>=2.3.1 (from matplotlib)\n",
      "  Obtaining dependency information for pyparsing>=2.3.1 from https://files.pythonhosted.org/packages/9d/ea/6d76df31432a0e6fdf81681a895f009a4bb47b3c39036db3e1b528191d52/pyparsing-3.1.2-py3-none-any.whl.metadata\n",
      "  Downloading pyparsing-3.1.2-py3-none-any.whl.metadata (5.1 kB)\n",
      "Requirement already satisfied: python-dateutil>=2.7 in c:\\users\\mikael\\appdata\\roaming\\python\\python312\\site-packages (from matplotlib) (2.8.2)\n",
      "Requirement already satisfied: six>=1.5 in c:\\users\\mikael\\appdata\\roaming\\python\\python312\\site-packages (from python-dateutil>=2.7->matplotlib) (1.16.0)\n",
      "Downloading matplotlib-3.8.3-cp312-cp312-win_amd64.whl (7.6 MB)\n",
      "   ---------------------------------------- 0.0/7.6 MB ? eta -:--:--\n",
      "    --------------------------------------- 0.2/7.6 MB 4.6 MB/s eta 0:00:02\n",
      "   - -------------------------------------- 0.3/7.6 MB 3.9 MB/s eta 0:00:02\n",
      "   -- ------------------------------------- 0.5/7.6 MB 3.5 MB/s eta 0:00:03\n",
      "   --- ------------------------------------ 0.6/7.6 MB 3.7 MB/s eta 0:00:02\n",
      "   ---- ----------------------------------- 0.8/7.6 MB 3.7 MB/s eta 0:00:02\n",
      "   ----- ---------------------------------- 1.1/7.6 MB 4.0 MB/s eta 0:00:02\n",
      "   ------ --------------------------------- 1.3/7.6 MB 4.1 MB/s eta 0:00:02\n",
      "   -------- ------------------------------- 1.5/7.6 MB 4.3 MB/s eta 0:00:02\n",
      "   --------- ------------------------------ 1.8/7.6 MB 4.3 MB/s eta 0:00:02\n",
      "   ---------- ----------------------------- 2.0/7.6 MB 4.4 MB/s eta 0:00:02\n",
      "   ----------- ---------------------------- 2.1/7.6 MB 4.3 MB/s eta 0:00:02\n",
      "   ------------ --------------------------- 2.4/7.6 MB 4.3 MB/s eta 0:00:02\n",
      "   ------------- -------------------------- 2.7/7.6 MB 4.5 MB/s eta 0:00:02\n",
      "   --------------- ------------------------ 2.9/7.6 MB 4.6 MB/s eta 0:00:02\n",
      "   ---------------- ----------------------- 3.2/7.6 MB 4.6 MB/s eta 0:00:01\n",
      "   ----------------- ---------------------- 3.4/7.6 MB 4.6 MB/s eta 0:00:01\n",
      "   ------------------- -------------------- 3.7/7.6 MB 4.7 MB/s eta 0:00:01\n",
      "   -------------------- ------------------- 3.9/7.6 MB 4.7 MB/s eta 0:00:01\n",
      "   --------------------- ------------------ 4.2/7.6 MB 4.8 MB/s eta 0:00:01\n",
      "   ---------------------- ----------------- 4.3/7.6 MB 4.9 MB/s eta 0:00:01\n",
      "   ----------------------- ---------------- 4.6/7.6 MB 4.7 MB/s eta 0:00:01\n",
      "   ------------------------- -------------- 4.9/7.6 MB 4.8 MB/s eta 0:00:01\n",
      "   -------------------------- ------------- 5.1/7.6 MB 4.9 MB/s eta 0:00:01\n",
      "   ---------------------------- ----------- 5.4/7.6 MB 4.9 MB/s eta 0:00:01\n",
      "   ----------------------------- ---------- 5.7/7.6 MB 5.0 MB/s eta 0:00:01\n",
      "   ------------------------------- -------- 6.0/7.6 MB 5.0 MB/s eta 0:00:01\n",
      "   -------------------------------- ------- 6.2/7.6 MB 5.0 MB/s eta 0:00:01\n",
      "   --------------------------------- ------ 6.5/7.6 MB 5.0 MB/s eta 0:00:01\n",
      "   ----------------------------------- ---- 6.7/7.6 MB 5.0 MB/s eta 0:00:01\n",
      "   ------------------------------------- -- 7.1/7.6 MB 5.0 MB/s eta 0:00:01\n",
      "   -------------------------------------- - 7.3/7.6 MB 5.0 MB/s eta 0:00:01\n",
      "   ---------------------------------------  7.6/7.6 MB 5.1 MB/s eta 0:00:01\n",
      "   ---------------------------------------  7.6/7.6 MB 5.0 MB/s eta 0:00:01\n",
      "   ---------------------------------------- 7.6/7.6 MB 4.9 MB/s eta 0:00:00\n",
      "Downloading contourpy-1.2.0-cp312-cp312-win_amd64.whl (187 kB)\n",
      "   ---------------------------------------- 0.0/187.7 kB ? eta -:--:--\n",
      "   ---------------------------------------  184.3/187.7 kB 5.6 MB/s eta 0:00:01\n",
      "   ---------------------------------------- 187.7/187.7 kB 3.8 MB/s eta 0:00:00\n",
      "Downloading cycler-0.12.1-py3-none-any.whl (8.3 kB)\n",
      "Downloading fonttools-4.50.0-cp312-cp312-win_amd64.whl (2.2 MB)\n",
      "   ---------------------------------------- 0.0/2.2 MB ? eta -:--:--\n",
      "   ------------ --------------------------- 0.7/2.2 MB 22.1 MB/s eta 0:00:01\n",
      "   ---------------- ----------------------- 0.9/2.2 MB 11.7 MB/s eta 0:00:01\n",
      "   ------------------- -------------------- 1.0/2.2 MB 8.2 MB/s eta 0:00:01\n",
      "   --------------------- ------------------ 1.2/2.2 MB 8.1 MB/s eta 0:00:01\n",
      "   --------------------- ------------------ 1.2/2.2 MB 8.1 MB/s eta 0:00:01\n",
      "   ---------------------------------- ----- 1.9/2.2 MB 7.0 MB/s eta 0:00:01\n",
      "   ---------------------------------------  2.2/2.2 MB 6.9 MB/s eta 0:00:01\n",
      "   ---------------------------------------- 2.2/2.2 MB 6.6 MB/s eta 0:00:00\n",
      "Downloading kiwisolver-1.4.5-cp312-cp312-win_amd64.whl (56 kB)\n",
      "   ---------------------------------------- 0.0/56.0 kB ? eta -:--:--\n",
      "   ---------------------------------------- 56.0/56.0 kB ? eta 0:00:00\n",
      "Downloading pillow-10.2.0-cp312-cp312-win_amd64.whl (2.6 MB)\n",
      "   ---------------------------------------- 0.0/2.6 MB ? eta -:--:--\n",
      "   --- ------------------------------------ 0.2/2.6 MB 13.0 MB/s eta 0:00:01\n",
      "   ------- -------------------------------- 0.5/2.6 MB 6.3 MB/s eta 0:00:01\n",
      "   ----------- ---------------------------- 0.7/2.6 MB 5.9 MB/s eta 0:00:01\n",
      "   --------------- ------------------------ 1.0/2.6 MB 5.9 MB/s eta 0:00:01\n",
      "   ------------------- -------------------- 1.3/2.6 MB 5.7 MB/s eta 0:00:01\n",
      "   ----------------------- ---------------- 1.5/2.6 MB 5.7 MB/s eta 0:00:01\n",
      "   --------------------------- ------------ 1.8/2.6 MB 5.7 MB/s eta 0:00:01\n",
      "   ------------------------------ --------- 2.0/2.6 MB 5.6 MB/s eta 0:00:01\n",
      "   ---------------------------------- ----- 2.3/2.6 MB 5.5 MB/s eta 0:00:01\n",
      "   -------------------------------------- - 2.5/2.6 MB 5.6 MB/s eta 0:00:01\n",
      "   ---------------------------------------- 2.6/2.6 MB 5.4 MB/s eta 0:00:00\n",
      "Downloading pyparsing-3.1.2-py3-none-any.whl (103 kB)\n",
      "   ---------------------------------------- 0.0/103.2 kB ? eta -:--:--\n",
      "   ---------------------------------------- 103.2/103.2 kB 3.0 MB/s eta 0:00:00\n",
      "Installing collected packages: pyparsing, pillow, kiwisolver, fonttools, cycler, contourpy, matplotlib\n",
      "Successfully installed contourpy-1.2.0 cycler-0.12.1 fonttools-4.50.0 kiwisolver-1.4.5 matplotlib-3.8.3 pillow-10.2.0 pyparsing-3.1.2\n"
     ]
    },
    {
     "name": "stderr",
     "output_type": "stream",
     "text": [
      "  WARNING: The scripts fonttools.exe, pyftmerge.exe, pyftsubset.exe and ttx.exe are installed in 'c:\\Users\\Mikael\\AppData\\Local\\Programs\\Python\\Python312\\Scripts' which is not on PATH.\n",
      "  Consider adding this directory to PATH or, if you prefer to suppress this warning, use --no-warn-script-location.\n",
      "\n",
      "[notice] A new release of pip is available: 23.2.1 -> 24.0\n",
      "[notice] To update, run: python.exe -m pip install --upgrade pip\n"
     ]
    }
   ],
   "source": [
    "pip install matplotlib"
   ]
  },
  {
   "cell_type": "code",
   "execution_count": 4,
   "metadata": {},
   "outputs": [],
   "source": [
    "import matplotlib.pyplot as plt\n"
   ]
  },
  {
   "cell_type": "code",
   "execution_count": 11,
   "metadata": {},
   "outputs": [
    {
     "data": {
      "text/plain": [
       "[<matplotlib.lines.Line2D at 0x1c07ee9ba40>]"
      ]
     },
     "execution_count": 11,
     "metadata": {},
     "output_type": "execute_result"
    },
    {
     "data": {
      "image/png": "[encoded data removed]",
      "text/plain": [
       "<Figure size 640x480 with 1 Axes>"
      ]
     },
     "metadata": {},
     "output_type": "display_data"
    }
   ],
   "source": [
    "distance = [10,20,30665,40,60,5,23,12]\n",
    "t = 10\n",
    "velocities = np.array(distance)/t\n",
    "\n",
    "plt.plot(distance , velocities,'x')"
   ]
  },
  {
   "cell_type": "code",
   "execution_count": 12,
   "metadata": {},
   "outputs": [],
   "source": [
    "# in your class if there are 2 students. in how many ways they can sit on "
   ]
  },
  {
   "cell_type": "code",
   "execution_count": null,
   "metadata": {},
   "outputs": [],
   "source": [
    "# 1 2 6 24 125\n"
   ]
  },
  {
   "cell_type": "code",
   "execution_count": 21,
   "metadata": {},
   "outputs": [],
   "source": [
    "def purmutiaion(n):\n",
    "    s = 1\n",
    "    for i in range (n,0,-1):\n",
    "        s = s*i\n",
    "        print(s,i)\n",
    "    return s\n",
    "\n",
    "\n"
   ]
  },
  {
   "cell_type": "code",
   "execution_count": 23,
   "metadata": {},
   "outputs": [
    {
     "name": "stdout",
     "output_type": "stream",
     "text": [
      "20 20\n",
      "380 19\n",
      "6840 18\n",
      "116280 17\n",
      "1860480 16\n",
      "27907200 15\n",
      "390700800 14\n",
      "5079110400 13\n",
      "60949324800 12\n",
      "670442572800 11\n",
      "6704425728000 10\n",
      "60339831552000 9\n",
      "482718652416000 8\n",
      "3379030566912000 7\n",
      "20274183401472000 6\n",
      "101370917007360000 5\n",
      "405483668029440000 4\n",
      "1216451004088320000 3\n",
      "2432902008176640000 2\n",
      "2432902008176640000 1\n"
     ]
    },
    {
     "data": {
      "text/plain": [
       "2432902008176640000"
      ]
     },
     "execution_count": 23,
     "metadata": {},
     "output_type": "execute_result"
    }
   ],
   "source": [
    "purmutiaion(20)"
   ]
  },
  {
   "cell_type": "code",
   "execution_count": 16,
   "metadata": {},
   "outputs": [
    {
     "name": "stdout",
     "output_type": "stream",
     "text": [
      "10\n",
      "9\n",
      "8\n",
      "7\n",
      "6\n",
      "5\n",
      "4\n",
      "3\n",
      "2\n",
      "1\n"
     ]
    }
   ],
   "source": [
    "# 20 student in 20 ways how can they sit "
   ]
  },
  {
   "cell_type": "code",
   "execution_count": 2,
   "metadata": {},
   "outputs": [],
   "source": [
    "import math"
   ]
  },
  {
   "cell_type": "code",
   "execution_count": 7,
   "metadata": {},
   "outputs": [
    {
     "data": {
      "text/plain": [
       "420848591825351521055669272365140245293700943777726492142785301807256248368815315713628156152791102091653514174280776111904015198867655585638867088892950726399173348505732004583787331709892732909829356707069644320249950274708764290678340626347314837783436882003791462153358668847219306666852375424414813353470603388699604229982346647349317316523884719769503309981141452606227007914697090591367467261001405017576193864164542637646437405487752074208956094731547973005702403172864210164691156473759756501145358975820207183739502486285459094232972805171318803046213857615710758882246786210289644783830752358987287305094090399462272524877470865072624438634766543169564127146967446830098815168272996481124895948985165415606619313633430744790098289644586020926619309520747845914131503956473976854082787116035206986740364785262964704598932435623401595563160464911071002822598872465499426799673998612333072590594540437396277323931971358333122804662434728537543888189891111093016417791139967921739678178799748214615200105990820918869400441147565809425173885886278345103049680617622165863327426682978901012087071929581536949254310151642320897392333696016126543575352502738826436405570008859226875446378056914891020855361351941204278342939208805717111745806001758187751997979051082470168234701115985596591762527964959927900837131486288391260426655137115176257298831394624095121784000727371888058956424287790525394656578979106714414968504927267535002447864228344248621492990350417537862319104627393830920121363777038193618823246523827645970929598761284522662173680546171419616611258818636325260308931980698514070149842506853708177970492489217570760243982224282051937028390766851044555232277732813481917267038138760658261668018367747867616690341435133897153996473848310059175878652353717292388856358251634732398701949846921157642840329062209025398705579362294040329189889906443679530430021130859121903442256946273295520672735971513964950128059101067648812916270353775093260816562759928007171984336900729158015561048759145224972087324090487223010630966539345839623298216686710517412456766240235528372609933774398035785195480816408268370086959148511017162053757293154729565415743917253731975423239756461725750500167526105999068194559838263925814515572657987310344504637316955705001543599621310229718919076072886430289706430487157185686478782183301528293851791360000000000000000000000000000000000000000000000000000000000000000000000000000000000000000000000000000000000000000000000000000000000000000000000000000000000000000000000000000000000000000000000000000000000000000000000000000000000000000000000000000000000"
      ]
     },
     "execution_count": 7,
     "metadata": {},
     "output_type": "execute_result"
    }
   ],
   "source": [
    "math.factorial(1009)"
   ]
  },
  {
   "cell_type": "code",
   "execution_count": 8,
   "metadata": {},
   "outputs": [
    {
     "name": "stdout",
     "output_type": "stream",
     "text": [
      "hi\n"
     ]
    }
   ],
   "source": [
    "jslkflsdajaslkfjirfn = (\"hi\")\n",
    "\n",
    "\n",
    "print(jslkflsdajaslkfjirfn)+(jslkflsdajaslkfjirfn)"
   ]
  },
  {
   "cell_type": "code",
   "execution_count": 9,
   "metadata": {},
   "outputs": [
    {
     "ename": "NameError",
     "evalue": "name 'x' is not defined",
     "output_type": "error",
     "traceback": [
      "\u001b[1;31m---------------------------------------------------------------------------\u001b[0m",
      "\u001b[1;31mNameError\u001b[0m                                 Traceback (most recent call last)",
      "Cell \u001b[1;32mIn[9], line 2\u001b[0m\n\u001b[0;32m      1\u001b[0m \u001b[38;5;66;03m# we have a system and we have to find the minimum point of the system \u001b[39;00m\n\u001b[1;32m----> 2\u001b[0m y \u001b[38;5;241m=\u001b[39m \u001b[43mx\u001b[49m\u001b[38;5;241m*\u001b[39m\u001b[38;5;241m2\u001b[39m \u001b[38;5;241m-\u001b[39m \u001b[38;5;241m10\u001b[39m\u001b[38;5;241m*\u001b[39mx \u001b[38;5;241m+\u001b[39m\u001b[38;5;241m200\u001b[39m\n",
      "\u001b[1;31mNameError\u001b[0m: name 'x' is not defined"
     ]
    }
   ],
   "source": [
    "# we have a system and we have to find the minimum point of the system \n",
    "x = 234\n",
    "y = x*2 - 10*x +200"
   ]
  },
  {
   "cell_type": "code",
   "execution_count": 10,
   "metadata": {},
   "outputs": [
    {
     "data": {
      "text/latex": [
       "$\\displaystyle x^{2} - 10 x + 200 = 0$"
      ],
      "text/plain": [
       "Eq(x**2 - 10*x + 200, 0)"
      ]
     },
     "execution_count": 10,
     "metadata": {},
     "output_type": "execute_result"
    }
   ],
   "source": [
    "from sympy import Eq,symbols \n",
    "x = symbols('x')\n",
    "y = Eq( x**2 - 10*x +200,0 )\n",
    "y"
   ]
  },
  {
   "cell_type": "code",
   "execution_count": 20,
   "metadata": {},
   "outputs": [],
   "source": [
    "my_eq = lambda x: x**2 - 10*x +200"
   ]
  },
  {
   "cell_type": "code",
   "execution_count": 21,
   "metadata": {},
   "outputs": [],
   "source": [
    "x_axis = np.linspace(-10,10,400)"
   ]
  },
  {
   "cell_type": "code",
   "execution_count": 22,
   "metadata": {},
   "outputs": [],
   "source": [
    "import matplotlib.pyplot as plt"
   ]
  },
  {
   "cell_type": "code",
   "execution_count": 24,
   "metadata": {},
   "outputs": [
    {
     "data": {
      "text/plain": [
       "[<matplotlib.lines.Line2D at 0x1ca18d7d040>]"
      ]
     },
     "execution_count": 24,
     "metadata": {},
     "output_type": "execute_result"
    },
    {
     "data": {
      "image/png": "[encoded data removed]",
      "text/plain": [
       "<Figure size 640x480 with 1 Axes>"
      ]
     },
     "metadata": {},
     "output_type": "display_data"
    }
   ],
   "source": [
    "plt.plot(x_axis,my_eq(x_axis))"
   ]
  },
  {
   "attachments": {
    "992D2178-27BE-4B94-B270-57681F4D3919.png": {
     "image/png": "[encoded data removed]"
    }
   },
   "cell_type": "markdown",
   "metadata": {},
   "source": [
    "![992D2178-27BE-4B94-B270-57681F4D3919.png](attachment:992D2178-27BE-4B94-B270-57681F4D3919.png)"
   ]
  },
  {
   "cell_type": "code",
   "execution_count": 28,
   "metadata": {},
   "outputs": [
    {
     "name": "stdout",
     "output_type": "stream",
     "text": [
      "24\n",
      "25\n",
      "24\n",
      "27\n",
      "28\n",
      "26\n",
      "24\n",
      "25\n",
      "26\n",
      "27\n",
      "28\n",
      "29\n",
      "30\n",
      "24\n"
     ]
    }
   ],
   "source": [
    "temperatures = [22, 24, 19, 23, 25, 21, 20, 18, 24, 27, 28, 22, 20, 19, 17, 21, 22, 26, 24, 23, 25, 26, 27, 28, 29, 30, 24, 22, 21]\n",
    "TF = []     \n",
    "np.mean(temperatures) , np.min(temperatures), np.max(temperatures)\n",
    "for each in temperatures:   \n",
    "    if each > np.mean(temperatures):\n",
    "        print(each)\n",
    "\n"
   ]
  },
  {
   "cell_type": "code",
   "execution_count": null,
   "metadata": {},
   "outputs": [],
   "source": []
  }
 ],
 "metadata": {
  "kernelspec": {
   "display_name": "Python 3",
   "language": "python",
   "name": "python3"
  },
  "language_info": {
   "codemirror_mode": {
    "name": "ipython",
    "version": 3
   },
   "file_extension": ".py",
   "mimetype": "text/x-python",
   "name": "python",
   "nbconvert_exporter": "python",
   "pygments_lexer": "ipython3",
   "version": "3.12.0"
  }
 },
 "nbformat": 4,
 "nbformat_minor": 2
}
