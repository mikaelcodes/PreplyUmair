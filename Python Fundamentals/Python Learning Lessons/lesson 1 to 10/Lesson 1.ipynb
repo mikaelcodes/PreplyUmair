{
 "cells": [
  {
   "cell_type": "markdown",
   "metadata": {},
   "source": [
    "### hi this is about string"
   ]
  },
  {
   "cell_type": "code",
   "execution_count": null,
   "metadata": {},
   "outputs": [],
   "source": [
    "x = \"hello world\"\n",
    "print(x)"
   ]
  },
  {
   "cell_type": "markdown",
   "metadata": {},
   "source": [
    "## mathematical Operator"
   ]
  },
  {
   "cell_type": "code",
   "execution_count": 2,
   "metadata": {},
   "outputs": [
    {
     "name": "stdout",
     "output_type": "stream",
     "text": [
      "19134\n",
      "5556\n",
      "83810205\n",
      "0.5499392466585662\n",
      "<class 'int'>\n",
      "5556\n"
     ]
    }
   ],
   "source": [
    "x = 6789\n",
    "y = 12345\n",
    "print(x+y)\n",
    "print(y-x)\n",
    "print(x*y)\n",
    "print(x/y)\n",
    "print(type(x))\n",
    "print(y%x) # remainder"
   ]
  },
  {
   "cell_type": "code",
   "execution_count": 4,
   "metadata": {},
   "outputs": [
    {
     "name": "stdout",
     "output_type": "stream",
     "text": [
      "11\n"
     ]
    }
   ],
   "source": [
    "x = \"1\"\n",
    "y = \"1\"\n",
    "print(x+y)"
   ]
  },
  {
   "cell_type": "markdown",
   "metadata": {},
   "source": [
    "# mathemcial operators are possible with number"
   ]
  },
  {
   "cell_type": "code",
   "execution_count": 12,
   "metadata": {},
   "outputs": [
    {
     "name": "stdout",
     "output_type": "stream",
     "text": [
      "Mikael               Hussain\n"
     ]
    }
   ],
   "source": [
    "# write your first name in x\n",
    "# write you second name in y \n",
    "#combine them\n",
    "x = 'Mikael '\n",
    "s = '             '\n",
    "y = ' Hussain'\n",
    "print(x+s+y)"
   ]
  },
  {
   "cell_type": "code",
   "execution_count": 16,
   "metadata": {},
   "outputs": [
    {
     "data": {
      "text/plain": [
       "'Mikael Mikael Mikael Mikael Mikael Mikael Mikael Mikael Mikael Mikael '"
      ]
     },
     "execution_count": 16,
     "metadata": {},
     "output_type": "execute_result"
    }
   ],
   "source": [
    "x * 10"
   ]
  },
  {
   "cell_type": "markdown",
   "metadata": {},
   "source": [
    "#### datatypes (1.strings 2.numbers) 3. mathematical operators 4. operatos on string"
   ]
  },
  {
   "cell_type": "code",
   "execution_count": 5,
   "metadata": {},
   "outputs": [
    {
     "name": "stdout",
     "output_type": "stream",
     "text": [
      "hi my name is mikael\n"
     ]
    }
   ],
   "source": [
    "z = 'hi' \n",
    "s = ' my name is mikael'\n",
    "\n",
    "print(z+s) "
   ]
  },
  {
   "cell_type": "code",
   "execution_count": null,
   "metadata": {},
   "outputs": [],
   "source": []
  }
 ],
 "metadata": {
  "kernelspec": {
   "display_name": "Python 3",
   "language": "python",
   "name": "python3"
  },
  "language_info": {
   "codemirror_mode": {
    "name": "ipython",
    "version": 3
   },
   "file_extension": ".py",
   "mimetype": "text/x-python",
   "name": "python",
   "nbconvert_exporter": "python",
   "pygments_lexer": "ipython3",
   "version": "3.12.0"
  }
 },
 "nbformat": 4,
 "nbformat_minor": 2
}
