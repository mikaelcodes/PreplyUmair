{
 "cells": [
  {
   "cell_type": "markdown",
   "metadata": {},
   "source": [
    "input(s) -> system->output(s)"
   ]
  },
  {
   "cell_type": "code",
   "execution_count": 7,
   "metadata": {},
   "outputs": [],
   "source": [
    "def anyone(x):\n",
    "    y = f\"hi my  name is {x} and i can type\"\n",
    "    z = f\"hi my  name is {x+\" abababbaba\"} and i can type\"\n",
    "    return y,z"
   ]
  },
  {
   "cell_type": "code",
   "execution_count": 8,
   "metadata": {},
   "outputs": [
    {
     "data": {
      "text/plain": [
       "('hi my  name is Mikael and i can type',\n",
       " 'hi my  name is Mikael abababbaba and i can type')"
      ]
     },
     "execution_count": 8,
     "metadata": {},
     "output_type": "execute_result"
    }
   ],
   "source": [
    "anyone(\"Mikael\")"
   ]
  },
  {
   "cell_type": "code",
   "execution_count": 9,
   "metadata": {},
   "outputs": [
    {
     "data": {
      "text/plain": [
       "('hi my  name is Orange and i can type',\n",
       " 'hi my  name is Orange abababbaba and i can type')"
      ]
     },
     "execution_count": 9,
     "metadata": {},
     "output_type": "execute_result"
    }
   ],
   "source": [
    "anyone(\"Orange\")"
   ]
  },
  {
   "cell_type": "markdown",
   "metadata": {},
   "source": [
    "$$ 6CO_2 + 6H_2O$$"
   ]
  },
  {
   "cell_type": "markdown",
   "metadata": {},
   "source": [
    "\n",
    "\n",
    "\n",
    "\n",
    "\n",
    "\n",
    "<img src = \"https://www.folimg.com/kernel/imageload/?table=fol3_catalog_images&key1=1212_large_feature&key2=1212_feature&key3=404_large_feature\" width=600000000000000 height = 1000000900000 > \n"
   ]
  },
  {
   "cell_type": "code",
   "execution_count": 1,
   "metadata": {},
   "outputs": [],
   "source": [
    "# make a simple_calcullator which will take x and y input and it will return \n",
    "# sum diff prod division of these numbers"
   ]
  },
  {
   "cell_type": "code",
   "execution_count": 3,
   "metadata": {},
   "outputs": [],
   "source": [
    "def simple_calculator(x,y):\n",
    "    s = x+y\n",
    "    b = x-y\n",
    "    c = x*y\n",
    "    d = x/y\n",
    "    print(\"sum is\",s)\n",
    "    print(\"diff is\",b)\n",
    "    print(\"prod is\",c)\n",
    "    print(\"division is\",d)\n",
    "    return s,b,c,d\n",
    "    "
   ]
  },
  {
   "cell_type": "code",
   "execution_count": 4,
   "metadata": {},
   "outputs": [
    {
     "name": "stdout",
     "output_type": "stream",
     "text": [
      "sum is 30\n",
      "diff is -10\n",
      "prod is 200\n",
      "division is 0.5\n"
     ]
    },
    {
     "data": {
      "text/plain": [
       "(30, -10, 200, 0.5)"
      ]
     },
     "execution_count": 4,
     "metadata": {},
     "output_type": "execute_result"
    }
   ],
   "source": [
    "simple_calculator(10,20)"
   ]
  },
  {
   "cell_type": "code",
   "execution_count": 5,
   "metadata": {},
   "outputs": [
    {
     "name": "stdout",
     "output_type": "stream",
     "text": [
      "sum is 12912\n",
      "diff is 11778\n",
      "prod is 6999615\n",
      "division is 21.772486772486772\n"
     ]
    },
    {
     "data": {
      "text/plain": [
       "(12912, 11778, 6999615, 21.772486772486772)"
      ]
     },
     "execution_count": 5,
     "metadata": {},
     "output_type": "execute_result"
    }
   ],
   "source": [
    "simple_calculator(12345,567)"
   ]
  },
  {
   "cell_type": "code",
   "execution_count": 6,
   "metadata": {},
   "outputs": [
    {
     "name": "stdout",
     "output_type": "stream",
     "text": [
      "sum is 10999999999\n",
      "diff is 8999999999\n",
      "prod is 9999999999000000000\n",
      "division is 9.999999999\n"
     ]
    }
   ],
   "source": [
    "o1,o2,o3,o4 = simple_calculator(9999999999,1000000000)"
   ]
  },
  {
   "cell_type": "code",
   "execution_count": 7,
   "metadata": {},
   "outputs": [
    {
     "data": {
      "text/plain": [
       "8999999999"
      ]
     },
     "execution_count": 7,
     "metadata": {},
     "output_type": "execute_result"
    }
   ],
   "source": [
    "o2"
   ]
  },
  {
   "cell_type": "code",
   "execution_count": 8,
   "metadata": {},
   "outputs": [],
   "source": [
    "import random\n",
    "\n",
    "def guessing_game():\n",
    "    # Generate a random number between 1 and 100\n",
    "    secret_number = random.randint(1, 100)\n",
    "\n",
    "    # Initialize the number of attempts\n",
    "    attempts = 0\n",
    "\n",
    "    print(\"Welcome to the Guessing Game!\")\n",
    "\n",
    "    while True:\n",
    "        try:\n",
    "            # Get the player's guess\n",
    "            guess = int(input(\"Enter your guess (between 1 and 100): \"))\n",
    "            attempts += 1\n",
    "\n",
    "            # Check if the guess is correct\n",
    "            if guess == secret_number:\n",
    "                print(f\"Congratulations! You guessed the correct number in {attempts} attempts.\")\n",
    "                break\n",
    "            elif guess < secret_number:\n",
    "                print(\"Too low! Try again.\")\n",
    "            else:\n",
    "                print(\"Too high! Try again.\")\n",
    "        except ValueError:\n",
    "            print(\"Invalid input. Please enter a valid number.\")\n",
    "\n",
    "\n"
   ]
  },
  {
   "cell_type": "code",
   "execution_count": null,
   "metadata": {},
   "outputs": [],
   "source": []
  },
  {
   "cell_type": "code",
   "execution_count": null,
   "metadata": {},
   "outputs": [],
   "source": []
  },
  {
   "cell_type": "code",
   "execution_count": 9,
   "metadata": {},
   "outputs": [
    {
     "name": "stdout",
     "output_type": "stream",
     "text": [
      "Welcome to the Guessing Game!\n",
      "Invalid input. Please enter a valid number.\n",
      "Invalid input. Please enter a valid number.\n",
      "Invalid input. Please enter a valid number.\n",
      "Invalid input. Please enter a valid number.\n",
      "Invalid input. Please enter a valid number.\n",
      "Invalid input. Please enter a valid number.\n",
      "Invalid input. Please enter a valid number.\n",
      "Too low! Try again.\n",
      "Too low! Try again.\n",
      "Too low! Try again.\n",
      "Too low! Try again.\n",
      "Too low! Try again.\n",
      "Invalid input. Please enter a valid number.\n",
      "Invalid input. Please enter a valid number.\n",
      "Invalid input. Please enter a valid number.\n",
      "Invalid input. Please enter a valid number.\n"
     ]
    }
   ],
   "source": [
    "# Call the function to start the game\n",
    "guessing_game()"
   ]
  },
  {
   "cell_type": "code",
   "execution_count": null,
   "metadata": {},
   "outputs": [],
   "source": [
    "import random\n",
    "\n",
    "def very_difficult():\n",
    "    # Generate a random number between 1 and 100\n",
    "    secret_number = random.randint(1, 1000000000)\n",
    "\n",
    "    # Initialize the number of attempts\n",
    "    attempts = 0\n",
    "\n",
    "    print(\"Welcome to the Guessing Game!\")\n",
    "    if computer ==1:\n",
    "    while True:\n",
    "        try:\n",
    "            # Get the player's guess\n",
    "            guess = int(input(\"Enter your guess (between 1 and 100): \"))\n",
    "            attempts += 1\n",
    "\n",
    "            # Check if the guess is correct\n",
    "            if guess == secret_number:\n",
    "                print(f\"Congratulations! You guessed the correct number in {attempts} attempts.\")\n",
    "                break\n",
    "            elif guess < secret_number:\n",
    "                print(\"Too low! Try again.\")\n",
    "            else:\n",
    "                print(\"Too high! Try again.\")\n",
    "        except ValueError:\n",
    "            print(\"Invalid input. Please enter a valid number.\")\n",
    "\n",
    "\n"
   ]
  },
  {
   "cell_type": "code",
   "execution_count": 4,
   "metadata": {},
   "outputs": [
    {
     "name": "stdout",
     "output_type": "stream",
     "text": [
      "Welcome to the Guessing Game!\n",
      "Invalid input. Please enter a valid number.\n",
      "Too low! Try again.\n",
      "Too low! Try again.\n",
      "Too low! Try again.\n",
      "Too low! Try again.\n"
     ]
    }
   ],
   "source": [
    "very_difficult()"
   ]
  },
  {
   "cell_type": "code",
   "execution_count": 1,
   "metadata": {},
   "outputs": [
    {
     "name": "stdout",
     "output_type": "stream",
     "text": [
      "Binary Search: Found at index 9876543\n",
      "Linear Search: Found at index 9876543\n",
      "Exponential Search: Found at index 9876543\n",
      "Golden Ratio Search: Found at index 9876543\n"
     ]
    }
   ],
   "source": [
    "def binary_search(target, low, high):\n",
    "    while low <= high:\n",
    "        mid = (low + high) // 2\n",
    "        if mid == target:\n",
    "            return mid\n",
    "        elif mid < target:\n",
    "            low = mid + 1\n",
    "        else:\n",
    "            high = mid - 1\n",
    "    return -1\n",
    "\n",
    "def linear_search(target, low, high):\n",
    "    for i in range(low, high + 1):\n",
    "        if i == target:\n",
    "            return i\n",
    "    return -1\n",
    "\n",
    "def exponential_search(target):\n",
    "    if target == 0:\n",
    "        return 0\n",
    "    i = 1\n",
    "    while i < target:\n",
    "        i *= 2\n",
    "    return binary_search(target, i // 2, min(i, 10_000_000))\n",
    "\n",
    "def golden_ratio_search(target):\n",
    "    low, high = 0, 10_000_000\n",
    "    ratio = (1 + 5**0.5) / 2\n",
    "    while low <= high:\n",
    "        mid = int(high - (high - low) / ratio)\n",
    "        if mid == target:\n",
    "            return mid\n",
    "        elif mid < target:\n",
    "            low = mid + 1\n",
    "        else:\n",
    "            high = mid - 1\n",
    "    return -1\n",
    "\n",
    "# Example usage:\n",
    "target_number = 9876543\n",
    "\n",
    "# Binary search\n",
    "result_binary = binary_search(target_number, 0, 10_000_000)\n",
    "print(f\"Binary Search: Found at index {result_binary}\")\n",
    "\n",
    "# Linear search\n",
    "result_linear = linear_search(target_number, 0, 10_000_000)\n",
    "print(f\"Linear Search: Found at index {result_linear}\")\n",
    "\n",
    "# Exponential search\n",
    "result_exponential = exponential_search(target_number)\n",
    "print(f\"Exponential Search: Found at index {result_exponential}\")\n",
    "\n",
    "# Golden ratio search\n",
    "result_golden = golden_ratio_search(target_number)\n",
    "print(f\"Golden Ratio Search: Found at index {result_golden}\")\n"
   ]
  },
  {
   "cell_type": "code",
   "execution_count": null,
   "metadata": {},
   "outputs": [],
   "source": []
  },
  {
   "cell_type": "code",
   "execution_count": null,
   "metadata": {},
   "outputs": [],
   "source": []
  },
  {
   "cell_type": "code",
   "execution_count": null,
   "metadata": {},
   "outputs": [],
   "source": []
  },
  {
   "cell_type": "code",
   "execution_count": null,
   "metadata": {},
   "outputs": [],
   "source": []
  },
  {
   "cell_type": "code",
   "execution_count": null,
   "metadata": {},
   "outputs": [],
   "source": []
  },
  {
   "cell_type": "code",
   "execution_count": null,
   "metadata": {},
   "outputs": [],
   "source": []
  },
  {
   "cell_type": "code",
   "execution_count": null,
   "metadata": {},
   "outputs": [],
   "source": []
  },
  {
   "cell_type": "code",
   "execution_count": null,
   "metadata": {},
   "outputs": [],
   "source": []
  },
  {
   "cell_type": "code",
   "execution_count": null,
   "metadata": {},
   "outputs": [],
   "source": []
  },
  {
   "cell_type": "code",
   "execution_count": null,
   "metadata": {},
   "outputs": [],
   "source": []
  },
  {
   "cell_type": "code",
   "execution_count": null,
   "metadata": {},
   "outputs": [],
   "source": []
  },
  {
   "cell_type": "code",
   "execution_count": null,
   "metadata": {},
   "outputs": [],
   "source": []
  },
  {
   "cell_type": "code",
   "execution_count": null,
   "metadata": {},
   "outputs": [],
   "source": []
  },
  {
   "cell_type": "code",
   "execution_count": null,
   "metadata": {},
   "outputs": [],
   "source": []
  },
  {
   "cell_type": "code",
   "execution_count": null,
   "metadata": {},
   "outputs": [],
   "source": [
    "def name_function(x):\n",
    "    y = 2*x\n",
    "    return y"
   ]
  },
  {
   "cell_type": "code",
   "execution_count": 1,
   "metadata": {},
   "outputs": [],
   "source": [
    "# function for use login \n",
    "# if user is adin give him special greeetings\n",
    "# for all others give it normal greeting\n"
   ]
  },
  {
   "cell_type": "code",
   "execution_count": null,
   "metadata": {},
   "outputs": [],
   "source": []
  },
  {
   "cell_type": "code",
   "execution_count": 3,
   "metadata": {},
   "outputs": [],
   "source": [
    "def greeeting(x):\n",
    "    if x == \"admin\":\n",
    "        print(\"hello boss\")\n",
    "    else:\n",
    "        print(\"hello people\")"
   ]
  },
  {
   "cell_type": "code",
   "execution_count": null,
   "metadata": {},
   "outputs": [],
   "source": []
  },
  {
   "cell_type": "code",
   "execution_count": null,
   "metadata": {},
   "outputs": [],
   "source": []
  },
  {
   "cell_type": "code",
   "execution_count": null,
   "metadata": {},
   "outputs": [],
   "source": []
  },
  {
   "cell_type": "code",
   "execution_count": null,
   "metadata": {},
   "outputs": [],
   "source": []
  },
  {
   "cell_type": "code",
   "execution_count": null,
   "metadata": {},
   "outputs": [],
   "source": []
  },
  {
   "cell_type": "code",
   "execution_count": null,
   "metadata": {},
   "outputs": [],
   "source": []
  },
  {
   "cell_type": "code",
   "execution_count": 4,
   "metadata": {},
   "outputs": [
    {
     "name": "stdout",
     "output_type": "stream",
     "text": [
      "hello boss\n"
     ]
    }
   ],
   "source": [
    "greeeting(\"admin\")"
   ]
  },
  {
   "cell_type": "code",
   "execution_count": 5,
   "metadata": {},
   "outputs": [
    {
     "name": "stdout",
     "output_type": "stream",
     "text": [
      "hello people\n"
     ]
    }
   ],
   "source": [
    "greeeting(\"people\")"
   ]
  }
 ],
 "metadata": {
  "kernelspec": {
   "display_name": "Python 3",
   "language": "python",
   "name": "python3"
  },
  "language_info": {
   "codemirror_mode": {
    "name": "ipython",
    "version": 3
   },
   "file_extension": ".py",
   "mimetype": "text/x-python",
   "name": "python",
   "nbconvert_exporter": "python",
   "pygments_lexer": "ipython3",
   "version": "3.12.0"
  }
 },
 "nbformat": 4,
 "nbformat_minor": 2
}
