{
 "cells": [
  {
   "cell_type": "code",
   "execution_count": 4,
   "metadata": {},
   "outputs": [],
   "source": [
    "def convert_temperature(temperature, unit):\n",
    "    if unit.upper() == 'C':\n",
    "        # Convert Celsius to Fahrenheit\n",
    "        converted_temperature = (temperature * 9/5) + 32\n",
    "        return converted_temperature, 'F'\n",
    "    elif unit.upper() == 'F':\n",
    "        # Convert Fahrenheit to Celsius\n",
    "        converted_temperature = (temperature - 32) * 5/9\n",
    "        return converted_temperature, 'C'\n",
    "    else:\n",
    "        # Handle invalid unit input\n",
    "        return None, 'Invalid Unit'\n",
    "\n",
    "\n"
   ]
  },
  {
   "cell_type": "code",
   "execution_count": 10,
   "metadata": {},
   "outputs": [
    {
     "name": "stdout",
     "output_type": "stream",
     "text": [
      "The age is: 5049999999 years\n"
     ]
    }
   ],
   "source": [
    "def age_in_years(birth_year, current_year):\n",
    "    age = current_year - birth_year\n",
    "    return age\n",
    "\n",
    "# Example usage:\n",
    "birth_year = 1\n",
    "current_year = 5050000000\n",
    "result = age_in_years(birth_year, current_year)\n",
    "\n",
    "print(f\"The age is: {result} years\")\n"
   ]
  },
  {
   "cell_type": "code",
   "execution_count": 14,
   "metadata": {},
   "outputs": [
    {
     "name": "stdout",
     "output_type": "stream",
     "text": [
      "1000000000000000000000000000000000000000000000000000000000000000000000000000000000000000000000000000000000000000000000000000000000000000000000000000000000000000000000000000000000000000000000000000000000000000000000000000000000000000000000000000000000000000000000000000000000000000000000000000000000000000000000000000000000000000000000000000000000000000000000000000000000000000000000000000000000000000000000000000000000000000000000000000000000000000000000009\n"
     ]
    }
   ],
   "source": [
    "def sum_of_list(numbers):\n",
    "    \"\"\"\n",
    "    Calculate the sum of a list of numbers.\n",
    "\n",
    "    Parameters:\n",
    "    numbers (list): A list of numbers.\n",
    "\n",
    "    Returns:\n",
    "    int or float: The sum of the numbers.\n",
    "    \"\"\"\n",
    "    return sum(numbers)\n",
    "\n",
    "# Example usage:\n",
    "my_list = [5, 2, 3, 999999999999999999999999999999999999999999999999999999999999999999999999999999999999999999999999999999999999999999999999999999999999999999999999999999999999999999999999999999999999999999999999999999999999999999999999999999999999999999999999999999999999999999999999999999999999999999999999999999999999999999999999999999999999999999999999999999999999999999999999999999999999999999999999999999999999999999999999999999999999999999999999999999999999999999999999]\n",
    "result = sum_of_list(my_list)\n",
    "print(result)  # Output: 10\n",
    "\n"
   ]
  },
  {
   "cell_type": "code",
   "execution_count": 21,
   "metadata": {},
   "outputs": [],
   "source": [
    "def is_palindrome(input_string):\n",
    "    # Convert the string to lowercase to make the check case-insensitive\n",
    "    input_string = input_string.lower()\n",
    "    \n",
    "    # Remove spaces from the string\n",
    "    input_string = input_string.replace(\" \", \"\")\n",
    "    \n",
    "    # Check if the string is equal to its reverse\n",
    "    return input_string == input_string[::-1]\n",
    "\n"
   ]
  },
  {
   "cell_type": "code",
   "execution_count": 22,
   "metadata": {},
   "outputs": [
    {
     "data": {
      "text/plain": [
       "<function __main__.is_palindrome(input_string)>"
      ]
     },
     "execution_count": 22,
     "metadata": {},
     "output_type": "execute_result"
    }
   ],
   "source": [
    "is_palindrome"
   ]
  }
 ],
 "metadata": {
  "kernelspec": {
   "display_name": "Python 3",
   "language": "python",
   "name": "python3"
  },
  "language_info": {
   "codemirror_mode": {
    "name": "ipython",
    "version": 3
   },
   "file_extension": ".py",
   "mimetype": "text/x-python",
   "name": "python",
   "nbconvert_exporter": "python",
   "pygments_lexer": "ipython3",
   "version": "3.12.0"
  }
 },
 "nbformat": 4,
 "nbformat_minor": 2
}
