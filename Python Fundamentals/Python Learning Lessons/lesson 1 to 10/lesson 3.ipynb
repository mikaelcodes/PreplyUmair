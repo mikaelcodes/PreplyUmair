{
 "cells": [
  {
   "cell_type": "markdown",
   "metadata": {},
   "source": [
    "## data structures!"
   ]
  },
  {
   "cell_type": "code",
   "execution_count": 1,
   "metadata": {},
   "outputs": [
    {
     "name": "stdout",
     "output_type": "stream",
     "text": [
      "<class 'tuple'>\n"
     ]
    }
   ],
   "source": [
    "#\n",
    "f_t = (\"sebastian\",\"keaton\",\"colin\",\"oliver\",\"hisan\",1000)\n",
    "print(type(f_t))"
   ]
  },
  {
   "cell_type": "code",
   "execution_count": 2,
   "metadata": {},
   "outputs": [
    {
     "name": "stdout",
     "output_type": "stream",
     "text": [
      "<class 'list'>\n"
     ]
    }
   ],
   "source": [
    "\n",
    "f_l = [\"sebastian\",\"keaton\",\"colin\",\"oliver\",\"hisan\",1000]\n",
    "print(type(f_l))"
   ]
  },
  {
   "cell_type": "code",
   "execution_count": 3,
   "metadata": {},
   "outputs": [
    {
     "name": "stdout",
     "output_type": "stream",
     "text": [
      "<class 'set'>\n"
     ]
    }
   ],
   "source": [
    "f_s = {\"sebastian\",\"keaton\",\"colin\",\"oliver\",\"hisan\",1000}\n",
    "print(type(f_s))"
   ]
  },
  {
   "cell_type": "code",
   "execution_count": 4,
   "metadata": {},
   "outputs": [
    {
     "name": "stdout",
     "output_type": "stream",
     "text": [
      "sebastian\n"
     ]
    }
   ],
   "source": [
    "# i want to change sebastian\n",
    "print(f_l[0])"
   ]
  },
  {
   "cell_type": "code",
   "execution_count": 15,
   "metadata": {},
   "outputs": [
    {
     "name": "stdout",
     "output_type": "stream",
     "text": [
      "sebastian\n"
     ]
    }
   ],
   "source": [
    "print ( f_t[0]   )"
   ]
  },
  {
   "cell_type": "code",
   "execution_count": 5,
   "metadata": {},
   "outputs": [
    {
     "name": "stdout",
     "output_type": "stream",
     "text": [
      "['APPLE', 'keaton', 'colin', 'oliver', 'hisan', 1000]\n"
     ]
    }
   ],
   "source": [
    "# in list we cange s\n",
    "f_l[0] = \"APPLE\"\n",
    "\n",
    "print(f_l)"
   ]
  },
  {
   "cell_type": "code",
   "execution_count": 6,
   "metadata": {},
   "outputs": [
    {
     "name": "stdout",
     "output_type": "stream",
     "text": [
      "('sebastian', 'keaton', 'colin', 'banana', 'hisan', 1000)\n"
     ]
    }
   ],
   "source": [
    "f_t = list(f_t)\n",
    "f_t[3] = \"banana\"\n",
    "f_t = tuple(f_t)\n",
    "print(f_t)"
   ]
  },
  {
   "cell_type": "code",
   "execution_count": 5,
   "metadata": {},
   "outputs": [
    {
     "name": "stdout",
     "output_type": "stream",
     "text": [
      "('blue', 'green', 'red', 'pink')\n",
      "<class 'list'>\n",
      "['apple', 'banana', 'orange', 'grape']\n"
     ]
    }
   ],
   "source": [
    "# today we discovereed different ways of storing\n",
    "# list \n",
    "#Umair A.\n",
    "\n",
    "#10:07\n",
    "\n",
    "#HOMEWORK:\n",
    "\n",
    "#make a list, tuple and set of colors\n",
    "#change the first color from list tuple ,\n",
    "#print new list and tuple\n",
    "#make a list of repeating numbers x = [1,2,3,4,5,4,3,2,1,3,4]\n",
    "#and cast it to set and see difference\n",
    "\n",
    "#make a list of 3 fruits and write one digit at the end, remove that digit and write a new 4th fruit\n",
    "\n",
    "\n",
    "colors = (\"blue\",\"green\",\"red\",\"purple\")\n",
    "\n",
    "colors = list(colors)\n",
    "colors[3] = \"pink\"\n",
    "colors = tuple(colors)\n",
    "print(colors)\n",
    "\n",
    "x = [1,2,3,4,5,4,3,2,1,3,4]\n",
    "print(type(x))\n",
    "\n",
    "fruit = [\"apple\",\"banana\",\"orange\",\"4567\"]\n",
    "fruit[3] =\"grape\"\n",
    "print(fruit)\n",
    "\n"
   ]
  },
  {
   "cell_type": "code",
   "execution_count": null,
   "metadata": {},
   "outputs": [],
   "source": []
  }
 ],
 "metadata": {
  "kernelspec": {
   "display_name": "Python 3",
   "language": "python",
   "name": "python3"
  },
  "language_info": {
   "codemirror_mode": {
    "name": "ipython",
    "version": 3
   },
   "file_extension": ".py",
   "mimetype": "text/x-python",
   "name": "python",
   "nbconvert_exporter": "python",
   "pygments_lexer": "ipython3",
   "version": "3.12.0"
  }
 },
 "nbformat": 4,
 "nbformat_minor": 2
}
