{
 "cells": [
  {
   "cell_type": "code",
   "execution_count": 1,
   "metadata": {},
   "outputs": [],
   "source": [
    "x = \"\"\"\n",
    "hi my name is mikael i can solve a rubiks cube my \n",
    "record is 12 seconds and i go  to brights grove public \n",
    "school and i live in sarnia 1234 lewis lain \n",
    "\"\"\""
   ]
  },
  {
   "cell_type": "code",
   "execution_count": 2,
   "metadata": {},
   "outputs": [],
   "source": [
    "# find the specific word in a string"
   ]
  },
  {
   "cell_type": "code",
   "execution_count": 3,
   "metadata": {},
   "outputs": [
    {
     "data": {
      "text/plain": [
       "15"
      ]
     },
     "execution_count": 3,
     "metadata": {},
     "output_type": "execute_result"
    }
   ],
   "source": [
    "x.find('mikael')"
   ]
  },
  {
   "cell_type": "code",
   "execution_count": 4,
   "metadata": {},
   "outputs": [],
   "source": [
    "# our target is to find the nam using regular expression. \n"
   ]
  },
  {
   "cell_type": "code",
   "execution_count": 5,
   "metadata": {},
   "outputs": [],
   "source": [
    "import re"
   ]
  },
  {
   "cell_type": "code",
   "execution_count": 8,
   "metadata": {},
   "outputs": [
    {
     "data": {
      "text/plain": [
       "<re.Match object; span=(15, 21), match='mikael'>"
      ]
     },
     "execution_count": 8,
     "metadata": {},
     "output_type": "execute_result"
    }
   ],
   "source": [
    "re.search(\"mikael\",x)"
   ]
  },
  {
   "cell_type": "code",
   "execution_count": 9,
   "metadata": {},
   "outputs": [
    {
     "data": {
      "text/plain": [
       "'mikael'"
      ]
     },
     "execution_count": 9,
     "metadata": {},
     "output_type": "execute_result"
    }
   ],
   "source": [
    "x[15:21]"
   ]
  },
  {
   "cell_type": "code",
   "execution_count": 13,
   "metadata": {},
   "outputs": [
    {
     "data": {
      "text/plain": [
       "''"
      ]
     },
     "execution_count": 13,
     "metadata": {},
     "output_type": "execute_result"
    }
   ],
   "source": [
    "x[13:13]"
   ]
  },
  {
   "cell_type": "code",
   "execution_count": 31,
   "metadata": {},
   "outputs": [],
   "source": [
    "y = 'hi my name is umair and i am tutoring mikael about python and different conceptsy'"
   ]
  },
  {
   "cell_type": "code",
   "execution_count": 32,
   "metadata": {},
   "outputs": [],
   "source": [
    "# please find how many vovels are there in y"
   ]
  },
  {
   "cell_type": "code",
   "execution_count": 33,
   "metadata": {},
   "outputs": [
    {
     "name": "stdout",
     "output_type": "stream",
     "text": [
      "26\n"
     ]
    }
   ],
   "source": [
    "\n",
    "counter =  0\n",
    "\n",
    "for i in y:\n",
    "    if i== \"a\" or i == \"e\" or i == \"i\" or i == \"o\" or i == \"u\":\n",
    "        counter= counter+1\n",
    "\n",
    "print(counter)"
   ]
  },
  {
   "cell_type": "code",
   "execution_count": 34,
   "metadata": {},
   "outputs": [
    {
     "data": {
      "text/plain": [
       "29"
      ]
     },
     "execution_count": 34,
     "metadata": {},
     "output_type": "execute_result"
    }
   ],
   "source": [
    "len( re.findall(r\"[aeiouy]\",y) )"
   ]
  },
  {
   "cell_type": "code",
   "execution_count": 43,
   "metadata": {},
   "outputs": [],
   "source": [
    "x = \"hi this is a secret message with code a32 b88 k99 h55 kkkk o77 etc yes not \""
   ]
  },
  {
   "cell_type": "code",
   "execution_count": 44,
   "metadata": {},
   "outputs": [],
   "source": [
    "# collect te w3ords which are starting with letter and it as 2 digit"
   ]
  },
  {
   "cell_type": "code",
   "execution_count": 45,
   "metadata": {},
   "outputs": [
    {
     "data": {
      "text/plain": [
       "['a32', 'b88', 'k99', 'h55', 'kkkk']"
      ]
     },
     "execution_count": 45,
     "metadata": {},
     "output_type": "execute_result"
    }
   ],
   "source": [
    "z = x.split()[8:13]\n",
    "z"
   ]
  },
  {
   "cell_type": "code",
   "execution_count": 42,
   "metadata": {},
   "outputs": [
    {
     "data": {
      "text/plain": [
       "'a32 b88 k99 h55 o77'"
      ]
     },
     "execution_count": 42,
     "metadata": {},
     "output_type": "execute_result"
    }
   ],
   "source": [
    "\" \".join(z)"
   ]
  },
  {
   "cell_type": "code",
   "execution_count": 47,
   "metadata": {},
   "outputs": [
    {
     "data": {
      "text/plain": [
       "['a32', 'b88', 'k99', 'h55', 'o77']"
      ]
     },
     "execution_count": 47,
     "metadata": {},
     "output_type": "execute_result"
    }
   ],
   "source": [
    "re.findall(r'[a-z]\\d\\d',x)"
   ]
  },
  {
   "cell_type": "code",
   "execution_count": 48,
   "metadata": {},
   "outputs": [],
   "source": [
    "# please write a string with atleast 10 emails "
   ]
  },
  {
   "cell_type": "code",
   "execution_count": null,
   "metadata": {},
   "outputs": [],
   "source": [
    "x = \"hi my email is jeff_bob@gmail.com my friends email is reaper howler@gmail.com \""
   ]
  },
  {
   "cell_type": "code",
   "execution_count": 49,
   "metadata": {},
   "outputs": [],
   "source": [
    "data = \"\"\"Hello there,\n",
    "\n",
    "I hope this email finds you well. If you have any questions, feel free to contact me at user1@example.com. We appreciate your feedback!\n",
    "\n",
    "Our team is working hard to improve our services. You can reach out to us at dummy2@email.net for any suggestions. \n",
    "\n",
    "Don't hesitate to send us your thoughts at test3@gmail.com. Your input is valuable to us.\n",
    "\n",
    "We received your inquiry at sample4@hotmail.com, and we'll get back to you shortly.\n",
    "\n",
    "If you encounter any issues, please contact us at email5@example.org. We are here to assist you.\n",
    "\n",
    "Best regards,\n",
    "user6@yahoo.com\n",
    "\n",
    "-------------------------\n",
    "\n",
    "For more information, you can visit our website: example7@emailprovider.com\n",
    "\n",
    "Feel free to drop us a line at test8@gmail.com if you have any further questions.\n",
    "\n",
    "Thank you for choosing our services. We look forward to hearing from you soon.\n",
    "\n",
    "Sincerely,\n",
    "demo9@outlook.com\n",
    "\"\"\""
   ]
  },
  {
   "cell_type": "code",
   "execution_count": 50,
   "metadata": {},
   "outputs": [
    {
     "data": {
      "text/plain": [
       "\"Hello there,\\n\\nI hope this email finds you well. If you have any questions, feel free to contact me at user1@example.com. We appreciate your feedback!\\n\\nOur team is working hard to improve our services. You can reach out to us at dummy2@email.net for any suggestions. \\n\\nDon't hesitate to send us your thoughts at test3@gmail.com. Your input is valuable to us.\\n\\nWe received your inquiry at sample4@hotmail.com, and we'll get back to you shortly.\\n\\nIf you encounter any issues, please contact us at email5@example.org. We are here to assist you.\\n\\nBest regards,\\nuser6@yahoo.com\\n\\n-------------------------\\n\\nFor more information, you can visit our website: example7@emailprovider.com\\n\\nFeel free to drop us a line at test8@gmail.com if you have any further questions.\\n\\nThank you for choosing our services. We look forward to hearing from you soon.\\n\\nSincerely,\\ndemo9@outlook.com\\n\""
      ]
     },
     "execution_count": 50,
     "metadata": {},
     "output_type": "execute_result"
    }
   ],
   "source": [
    "data"
   ]
  },
  {
   "cell_type": "code",
   "execution_count": 51,
   "metadata": {},
   "outputs": [],
   "source": [
    "# patter [a-z]@[a-z].com"
   ]
  },
  {
   "cell_type": "code",
   "execution_count": 72,
   "metadata": {},
   "outputs": [
    {
     "data": {
      "text/plain": [
       "['user1@example.com',\n",
       " 'dummy2@email.net',\n",
       " 'test3@gmail.com',\n",
       " 'sample4@hotmail.com',\n",
       " 'email5@example.org',\n",
       " 'user6@yahoo.com',\n",
       " 'example7@emailprovider.com',\n",
       " 'test8@gmail.com',\n",
       " 'demo9@outlook.com']"
      ]
     },
     "execution_count": 72,
     "metadata": {},
     "output_type": "execute_result"
    }
   ],
   "source": [
    "re.findall(r\"[a-zA-Z0-9]*@[a-zA-Z]*.[org|com|net]+\",data)"
   ]
  },
  {
   "cell_type": "code",
   "execution_count": 73,
   "metadata": {},
   "outputs": [
    {
     "name": "stdout",
     "output_type": "stream",
     "text": [
      "['user1@example.com', 'dummy2@email.net', 'test3@gmail.com', 'sample4@hotmail.com', 'email5@example.org', 'user6@yahoo.com', 'example7@emailprovider.com', 'test8@gmail.com', 'demo9@outlook.com']\n"
     ]
    }
   ],
   "source": [
    "email_pattern = re.compile(r'\\b[A-Za-z0-9._%+-]+@[A-Za-z0-9.-]+\\.[A-Z|a-z]{2,}\\b')\n",
    "\n",
    "# Find all matches in the text\n",
    "matches = re.findall(email_pattern, data)\n",
    "\n",
    "# Print the extracted email addresses\n",
    "print(matches)"
   ]
  },
  {
   "cell_type": "code",
   "execution_count": null,
   "metadata": {},
   "outputs": [],
   "source": [
    "# strings... we see some advance features of string,,,, \n",
    "\n",
    "\n",
    "# data structure"
   ]
  }
 ],
 "metadata": {
  "kernelspec": {
   "display_name": "Python 3",
   "language": "python",
   "name": "python3"
  },
  "language_info": {
   "codemirror_mode": {
    "name": "ipython",
    "version": 3
   },
   "file_extension": ".py",
   "mimetype": "text/x-python",
   "name": "python",
   "nbconvert_exporter": "python",
   "pygments_lexer": "ipython3",
   "version": "3.12.0"
  }
 },
 "nbformat": 4,
 "nbformat_minor": 2
}
