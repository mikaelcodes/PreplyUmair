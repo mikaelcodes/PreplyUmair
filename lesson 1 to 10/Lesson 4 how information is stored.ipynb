{
 "cells": [
  {
   "cell_type": "code",
   "execution_count": 1,
   "metadata": {},
   "outputs": [],
   "source": [
    "# why Data Structure"
   ]
  },
  {
   "cell_type": "code",
   "execution_count": 2,
   "metadata": {},
   "outputs": [],
   "source": [
    "all_users = []"
   ]
  },
  {
   "cell_type": "code",
   "execution_count": 14,
   "metadata": {},
   "outputs": [
    {
     "name": "stdout",
     "output_type": "stream",
     "text": [
      "user is not there\n",
      "it is saved\n"
     ]
    }
   ],
   "source": [
    "\n",
    "user = input(\"please enter you unique username:\")\n",
    "\n",
    "if \" \" in user:\n",
    "    print(\"this username is not correct\")\n",
    "else:\n",
    "    if user in all_users:\n",
    "        print(\"hello\",user,\"weclome to your website\")\n",
    "    else:\n",
    "        print(\"user is not there\")\n",
    "        all_users.append(user)\n",
    "        print(\"it is saved\")"
   ]
  },
  {
   "cell_type": "code",
   "execution_count": 13,
   "metadata": {},
   "outputs": [
    {
     "data": {
      "text/plain": [
       "['mikael123', 'umair', 'eminem', 'mikael 123456']"
      ]
     },
     "execution_count": 13,
     "metadata": {},
     "output_type": "execute_result"
    }
   ],
   "source": [
    "all_users"
   ]
  },
  {
   "cell_type": "code",
   "execution_count": 15,
   "metadata": {},
   "outputs": [],
   "source": [
    "## what is append \n",
    "# how can i remove tsoemthing from data\n",
    "# "
   ]
  },
  {
   "cell_type": "code",
   "execution_count": 18,
   "metadata": {},
   "outputs": [
    {
     "name": "stdout",
     "output_type": "stream",
     "text": [
      "welcome and you can register with our wesbite\n"
     ]
    }
   ],
   "source": [
    "# make a code in which you will be asked to enter the student age\n",
    "# if student age is less than 13 then print sorry you can not register with our website\n",
    "# else use append to save it \n",
    "studentage = input(\"please enter your age \") # this is a sting we must have to chang eit to number as we want to do comparative\n",
    "\n",
    "if 13 > int(studentage): # if studentage < 13\n",
    "    print(\"sorry you are to young to join our website\")\n",
    "else:\n",
    "    print(\"welcome and you can register with our wesbite\")\n",
    "    "
   ]
  },
  {
   "cell_type": "code",
   "execution_count": 70,
   "metadata": {},
   "outputs": [
    {
     "name": "stdout",
     "output_type": "stream",
     "text": [
      "you have a fever\n"
     ]
    }
   ],
   "source": [
    "# write a code if the temperature of a person has temp more than 100k then print you have a fever if it is less than 100 then print you are ok\n",
    "\n",
    "\n",
    "\n",
    "\n",
    "temperature = input(\"can you please tell us your temperature\")\n",
    "if float(temperature) < 95 or float(temperature) >105:\n",
    "    print(\"wrong temperature\",temperature,\"the temperature should between 95 to 105\")\n",
    "lif 100 <= float(temperature): # waht is more than equal to\n",
    "    print(\"you have a fever\")\n",
    "else:\n",
    "    print(\"your luckey you dont have a fever have a candy\")\n"
   ]
  },
  {
   "cell_type": "code",
   "execution_count": 68,
   "metadata": {},
   "outputs": [
    {
     "name": "stdout",
     "output_type": "stream",
     "text": [
      "good job you got a A\n"
     ]
    }
   ],
   "source": [
    "# write code if marks are more than 90 print you got A grade\n",
    "# if marks are more than 80 and less than 90 print you got B grdae\n",
    "# if marks are more than 50 and less than 80 ten print C grade\n",
    "# if marks less than 50 F grade\n",
    "\n",
    "\n",
    "grades = input(\"what is your grade?\")\n",
    "grade = float(grades)\n",
    "if grade > 90 or grade ==90:\n",
    "    print(\"good job you got a A\")\n",
    "elif grade <90 and grade >=80:\n",
    "    print(\"you got a B nice job\")\n",
    "elif grade >=50 and grade <80:\n",
    "    print(\"you got a C you pass\")\n",
    "else:\n",
    "    print(\" YOU FAIL GET OUT\")"
   ]
  },
  {
   "cell_type": "code",
   "execution_count": 47,
   "metadata": {},
   "outputs": [],
   "source": [
    "all_student = []"
   ]
  },
  {
   "cell_type": "code",
   "execution_count": 66,
   "metadata": {},
   "outputs": [
    {
     "name": "stdout",
     "output_type": "stream",
     "text": [
      " YOU FAIL GET OUT YOU ARE THE WORST STUDENT EVER GET OUT YOU aRE EXPELLED\n"
     ]
    }
   ],
   "source": [
    "marks = input(\"what is your marks?\")\n",
    "name = input( \"waht is your name\")\n",
    "marks = float(marks)\n",
    "if marks > 90 or marks ==90:\n",
    "    all_student.append(name+\" A\")\n",
    "    print(\"good job you got a A\")\n",
    "elif marks <90 and marks >=80:\n",
    "    all_student.append(name+\" B\")\n",
    "    print(\"you got a B nice job\")\n",
    "elif marks >=50 and marks <80:\n",
    "    all_student.append(name+\" C\")\n",
    "    print(\"you got a C you pass\")\n",
    "else:\n",
    "    all_student.append(name+\" D\")\n",
    "    print(\" YOU FAIL GET OUT YOU ARE THE WORST STUDENT EVER GET OUT YOU aRE EXPELLED\")"
   ]
  },
  {
   "cell_type": "code",
   "execution_count": 57,
   "metadata": {},
   "outputs": [
    {
     "data": {
      "text/plain": [
       "['umair A', 'mikael A', 'Mr lazy D', 'almeer C']"
      ]
     },
     "execution_count": 57,
     "metadata": {},
     "output_type": "execute_result"
    }
   ],
   "source": [
    "all_student"
   ]
  },
  {
   "cell_type": "code",
   "execution_count": 60,
   "metadata": {},
   "outputs": [
    {
     "name": "stdout",
     "output_type": "stream",
     "text": [
      "['umair A', 'mikael A', 'Mr lazy D', 'almeer C']\n"
     ]
    }
   ],
   "source": [
    "print(all_student)"
   ]
  },
  {
   "cell_type": "code",
   "execution_count": 62,
   "metadata": {},
   "outputs": [
    {
     "name": "stdout",
     "output_type": "stream",
     "text": [
      "umair A\n",
      "mikael A\n",
      "Mr lazy D\n",
      "almeer C\n"
     ]
    }
   ],
   "source": [
    "# there is method o string \n",
    "\n",
    "abc = \"\\n\".join(all_student)\n",
    "print(abc)"
   ]
  },
  {
   "cell_type": "code",
   "execution_count": 65,
   "metadata": {},
   "outputs": [
    {
     "data": {
      "text/plain": [
       "35"
      ]
     },
     "execution_count": 65,
     "metadata": {},
     "output_type": "execute_result"
    }
   ],
   "source": [
    "a = open(\"mikael.txt\",\"w\")\n",
    "a.write(abc)"
   ]
  },
  {
   "cell_type": "code",
   "execution_count": null,
   "metadata": {},
   "outputs": [],
   "source": []
  }
 ],
 "metadata": {
  "kernelspec": {
   "display_name": "Python 3",
   "language": "python",
   "name": "python3"
  },
  "language_info": {
   "codemirror_mode": {
    "name": "ipython",
    "version": 3
   },
   "file_extension": ".py",
   "mimetype": "text/x-python",
   "name": "python",
   "nbconvert_exporter": "python",
   "pygments_lexer": "ipython3",
   "version": "3.12.0"
  }
 },
 "nbformat": 4,
 "nbformat_minor": 2
}
