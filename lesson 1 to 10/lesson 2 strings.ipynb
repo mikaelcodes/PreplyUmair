{
 "cells": [
  {
   "cell_type": "markdown",
   "metadata": {},
   "source": [
    "### Data types\n",
    "# 1. text (string)\n",
    "# 2.  numbers"
   ]
  },
  {
   "cell_type": "markdown",
   "metadata": {},
   "source": [
    "## we have multiple methods of string and one by one we wil dicuss them"
   ]
  },
  {
   "cell_type": "code",
   "execution_count": 2,
   "metadata": {},
   "outputs": [
    {
     "name": "stdout",
     "output_type": "stream",
     "text": [
      "<class 'str'>\n"
     ]
    }
   ],
   "source": [
    "s = 'hi my name is umair'\n",
    "#\n",
    "print(type(s))"
   ]
  },
  {
   "cell_type": "code",
   "execution_count": 4,
   "metadata": {},
   "outputs": [],
   "source": [
    "s2 = s.replace(\"umair\",\"Mikael\" )"
   ]
  },
  {
   "cell_type": "code",
   "execution_count": 5,
   "metadata": {},
   "outputs": [
    {
     "data": {
      "text/plain": [
       "'hi my name is Mikael'"
      ]
     },
     "execution_count": 5,
     "metadata": {},
     "output_type": "execute_result"
    }
   ],
   "source": [
    "s2"
   ]
  },
  {
   "cell_type": "code",
   "execution_count": 11,
   "metadata": {},
   "outputs": [
    {
     "name": "stdout",
     "output_type": "stream",
     "text": [
      "hi my name is Bob\n"
     ]
    },
    {
     "data": {
      "text/plain": [
       "['hi', 'my', 'name', 'is', 'Bob']"
      ]
     },
     "execution_count": 11,
     "metadata": {},
     "output_type": "execute_result"
    }
   ],
   "source": [
    "# make new s3 and replace mikael with new name\n",
    "s3 = s2.replace(\"Mikael\",\"Bob\")\n",
    "print(s3)\n",
    "s3.split()"
   ]
  },
  {
   "cell_type": "code",
   "execution_count": 15,
   "metadata": {},
   "outputs": [
    {
     "name": "stdout",
     "output_type": "stream",
     "text": [
      "CAT SAYS MEOW AND DOG SAYS WOFF\n"
     ]
    }
   ],
   "source": [
    "s4 = \"cat says meow and dog says woff\"\n",
    "# upper case\n",
    "print ( s4.upper() ) "
   ]
  },
  {
   "cell_type": "code",
   "execution_count": 17,
   "metadata": {},
   "outputs": [
    {
     "name": "stdout",
     "output_type": "stream",
     "text": [
      "Cat Says Meow And Dog Says Woff\n"
     ]
    }
   ],
   "source": [
    "print(s4.title())"
   ]
  },
  {
   "cell_type": "code",
   "execution_count": null,
   "metadata": {},
   "outputs": [],
   "source": []
  },
  {
   "cell_type": "code",
   "execution_count": 20,
   "metadata": {},
   "outputs": [
    {
     "data": {
      "text/plain": [
       "'hello my name is Mikael'"
      ]
     },
     "execution_count": 20,
     "metadata": {},
     "output_type": "execute_result"
    }
   ],
   "source": [
    "###\n",
    "x = ['hello', 'my','name','is','Mikael']\n",
    "# we want it to add together as string\n",
    "backtostring = \" \".join(x)\n",
    "backtostring"
   ]
  },
  {
   "cell_type": "code",
   "execution_count": 21,
   "metadata": {},
   "outputs": [
    {
     "name": "stdout",
     "output_type": "stream",
     "text": [
      "True\n"
     ]
    }
   ],
   "source": [
    "x = \"once upon a time when there used to be a thirsty crow\"\n",
    "print(x.startswith(\"once\"))"
   ]
  },
  {
   "cell_type": "code",
   "execution_count": 25,
   "metadata": {},
   "outputs": [
    {
     "name": "stdout",
     "output_type": "stream",
     "text": [
      "False\n"
     ]
    }
   ],
   "source": [
    "print(x.endswith('apple'))\n",
    "\n",
    "x = \"there was a\"\n",
    "z = \" thrsty crow\""
   ]
  },
  {
   "cell_type": "code",
   "execution_count": 27,
   "metadata": {},
   "outputs": [
    {
     "data": {
      "text/plain": [
       "True"
      ]
     },
     "execution_count": 27,
     "metadata": {},
     "output_type": "execute_result"
    }
   ],
   "source": [
    "d = \"12345\"\n",
    "d.isnumeric()"
   ]
  },
  {
   "cell_type": "code",
   "execution_count": 1,
   "metadata": {},
   "outputs": [
    {
     "data": {
      "text/plain": [
       "True"
      ]
     },
     "execution_count": 1,
     "metadata": {},
     "output_type": "execute_result"
    }
   ],
   "source": [
    "k = \"ABcdef\"\n",
    "k.isalpha() # alphabatic"
   ]
  },
  {
   "cell_type": "code",
   "execution_count": 4,
   "metadata": {},
   "outputs": [
    {
     "name": "stdout",
     "output_type": "stream",
     "text": [
      "\n",
      "this is my string a\n",
      "i an \n",
      "write\n",
      "here alott\n",
      "\n",
      "\n"
     ]
    }
   ],
   "source": [
    "x = \"\"\"\n",
    "this is my string a\n",
    "i an \n",
    "write\n",
    "here alott\n",
    "\n",
    "\"\"\"\n",
    "print(x)"
   ]
  },
  {
   "cell_type": "code",
   "execution_count": 5,
   "metadata": {},
   "outputs": [
    {
     "name": "stdout",
     "output_type": "stream",
     "text": [
      "\n",
      "According to a press release, it said: “This marked a significant milestone in the nation’s transportation landscape, driving the country towards a sustainable future.”\n",
      "\n",
      "By doing so, InDrive said it has become the first ride-hailing company to integrate EVs. This move signifies a step towards reducing emissions and promoting environmental sustainability.\n",
      "\n",
      "“This collaboration between inDrive and Vlektra marks an exciting step forward in our commitment to sustainability and innovation in Pakistan,” said Roman Ermoshin, director of the APAC region at inDriv\n",
      "\n",
      "\n"
     ]
    }
   ],
   "source": [
    "news = '''\n",
    "According to a press release, it said: “This marked a significant milestone in the nation’s transportation landscape, driving the country towards a sustainable future.”\n",
    "\n",
    "By doing so, InDrive said it has become the first ride-hailing company to integrate EVs. This move signifies a step towards reducing emissions and promoting environmental sustainability.\n",
    "\n",
    "“This collaboration between inDrive and Vlektra marks an exciting step forward in our commitment to sustainability and innovation in Pakistan,” said Roman Ermoshin, director of the APAC region at inDriv\n",
    "\n",
    "'''\n",
    "print(news)"
   ]
  },
  {
   "cell_type": "code",
   "execution_count": 11,
   "metadata": {},
   "outputs": [
    {
     "name": "stdout",
     "output_type": "stream",
     "text": [
      "\n",
      "According to * press rele*se, it s*id: “This m*rked * signific*nt milestone in the n*tion’s tr*nsport*tion l*ndsc*pe, driving the country tow*rds * sust*in*ble future.”\n",
      "\n",
      "By doing so, InDrive s*id it h*s become the first ride-h*iling comp*ny to integr*te EVs. This move signifies * step tow*rds reducing emissions *nd promoting environment*l sust*in*bility.\n",
      "\n",
      "“This coll*bor*tion between inDrive *nd Vlektr* m*rks *n exciting step forw*rd in our commitment to sust*in*bility *nd innov*tion in P*kist*n,” s*id Rom*n Ermoshin, director of the APAC region *t inDriv\n",
      "\n",
      "\n"
     ]
    }
   ],
   "source": [
    "# repace from news all 'a' with '@'\"lesson 1.py\"\n",
    "\n",
    "xyzx = news.replace(\"a\",\"*\")# imple encoding\n",
    "print(xyzx)"
   ]
  },
  {
   "cell_type": "code",
   "execution_count": 15,
   "metadata": {},
   "outputs": [
    {
     "name": "stdout",
     "output_type": "stream",
     "text": [
      "\n",
      "According to a press release, it said: “This marked a significant milestone in the nation’s transportation landscape, driving the country towards a sustainable future.”\n",
      "\n",
      "By doing so, InDrive said it has become the first ride-hailing company to integrate EVs. This move signifies a step towards reducing emissions and promoting environmental sustainability.\n",
      "\n",
      "“This collaboration between inDrive and Vlektra marks an exciting step forward in our commitment to sustainability and innovation in Pakistan,” said Roman Ermoshin, director of the APAC region at inDriv\n",
      "\n",
      " \n",
      "According to * press rele*se, it s*id: “This m*rked * signific*nt milestone in the n*tion’s tr*nsport*tion l*ndsc*pe, driving the country tow*rds * sust*in*ble future.”\n",
      "\n",
      "By doing so, InDrive s*id it h*s become the first ride-h*iling comp*ny to integr*te EVs. This move signifies * step tow*rds reducing emissions *nd promoting environment*l sust*in*bility.\n",
      "\n",
      "“This coll*bor*tion between inDrive *nd Vlektr* m*rks *n exciting step forw*rd in our commitment to sust*in*bility *nd innov*tion in P*kist*n,” s*id Rom*n Ermoshin, director of the APAC region *t inDriv\n",
      "\n",
      " \n",
      "According to a press release, it said: “This marked a significant milestone in the nation’s transportation landscape, driving the country towards a sustainable future.”\n",
      "\n",
      "By doing so, InDrive said it has become the first ride-hailing company to integrate EVs. This move signifies a step towards reducing emissions and promoting environmental sustainability.\n",
      "\n",
      "“This collaboration between inDrive and Vlektra marks an exciting step forward in our commitment to sustainability and innovation in Pakistan,” said Roman Ermoshin, director of the APAC region at inDriv\n",
      "\n",
      "\n"
     ]
    }
   ],
   "source": [
    "# simple decoding\n",
    "abc = xyzx.replace(\"*\",'a')\n",
    "print(news,xyzx,abc)"
   ]
  },
  {
   "cell_type": "code",
   "execution_count": 20,
   "metadata": {},
   "outputs": [
    {
     "data": {
      "text/plain": [
       "3"
      ]
     },
     "execution_count": 20,
     "metadata": {},
     "output_type": "execute_result"
    }
   ],
   "source": [
    "## tehre is module in python with which can we get data from internet but before than i want to show you find function\n",
    "x = \"  hi its mikael\"\n",
    "x.find(\"i\")"
   ]
  },
  {
   "cell_type": "code",
   "execution_count": 27,
   "metadata": {},
   "outputs": [
    {
     "data": {
      "text/plain": [
       "' i have flu etc'"
      ]
     },
     "execution_count": 27,
     "metadata": {},
     "output_type": "execute_result"
    }
   ],
   "source": [
    "h = \"hello its umair. and its very cold. i have flu etc\"\n",
    "diff = h.split(\".\")\n",
    "diff[2]"
   ]
  },
  {
   "cell_type": "code",
   "execution_count": null,
   "metadata": {},
   "outputs": [],
   "source": []
  },
  {
   "cell_type": "code",
   "execution_count": null,
   "metadata": {},
   "outputs": [],
   "source": []
  },
  {
   "cell_type": "code",
   "execution_count": 39,
   "metadata": {},
   "outputs": [
    {
     "name": "stdout",
     "output_type": "stream",
     "text": [
      ", it said: “This marked a significant milestone in the nation’s transportation landscape, driving the country towards a sustainable future.”</p>\n",
      "<p>By doing so, InDrive said it has become the first ride-hailing company to integrate EVs. This move signifies a step towards reducing emissions and promoting environmental sustainability.</p>\n",
      "<p>“This collaboration between inDrive and Vlektra marks an exciting step forward in our commitment to sustainability and innovation in Pakistan,” said Roman Ermoshin, director of the APAC region at inDrive.</p>\n",
      "<p>“This partnership signifies our concerted effort to introduce electric bikes, driving a significant shift towards a cleaner, more eco-conscious future in the region.”</p>\n",
      "<p>Fatiq Bin Khursheed, Co-founder of Vlektra, echoed this sentiment, stating, “Vlektra’s partnership with inDrive heralds a pioneering move in Pakistan’s ride-hailing landscape, introducing electric vehicles for sustainable mobility.</p>\n",
      "<p>He added that the primary aim of this collaboration was to reduce emissions and promote eco-friendly transport.</p>\n",
      "<p>In addition to this, InDrive launched a contest aimed at promoting awareness about EVs and environmental sustainability. The contest will reward the best-performing drivers with free EV bikes.</p>\n",
      "<p>InDrive is a global ride-hailing platform founded in 2013. Overall, it operates in over 450 cities across 46 countries. It allows customers to set fares based on real-time demand and market conditions, ensuring a transparent pricing system for both passengers and drivers.</p>\n",
      "<h2><a id=\"about-vlektra\" href=\"#about-vlektra\" class=\"heading-permalink\" aria-hidden=\"true\" title=\"Permalink\"></a>About Vlektra</h2>\n",
      "<p>Vlektra is a Pakistani startup which provides eco-friendly and sustainable electric vehicle solutions. Founded in 2021, Vlektra is “committed to reducing Pakistan’s carbon footprint and promoting sustainable mobility through its innovative EV technology.” The company offers a range of electric bikes and scooters designed for everyday use.</p>\n"
     ]
    }
   ],
   "source": [
    "# we directly try to load data in python\n",
    "import requests\n",
    "data = requests.get(\"https://www.dawn.com/news/1794977/indrive-integrates-electric-motorcycles-into-its-fleet-in-pakistan\")\n",
    "data = data.text\n",
    "clean = data.split(\"According to a press release\")[1].split(\"\\n\\n    </div>\\n\")[0]\n",
    "print(clean)"
   ]
  },
  {
   "cell_type": "code",
   "execution_count": 41,
   "metadata": {},
   "outputs": [
    {
     "name": "stdout",
     "output_type": "stream",
     "text": [
      "[', it said: “This marked a significant milestone in the nation’s transportation landscape, driving the country towards a sustainable future.”</p>\\n', 'By doing so, InDrive said it has become the first ride-hailing company to integrate EVs. This move signifies a step towards reducing emissions and promoting environmental sustainability.</p>\\n', '“This collaboration between inDrive and Vlektra marks an exciting step forward in our commitment to sustainability and innovation in Pakistan,” said Roman Ermoshin, director of the APAC region at inDrive.</p>\\n', '“This partnership signifies our concerted effort to introduce electric bikes, driving a significant shift towards a cleaner, more eco-conscious future in the region.”</p>\\n', 'Fatiq Bin Khursheed, Co-founder of Vlektra, echoed this sentiment, stating, “Vlektra’s partnership with inDrive heralds a pioneering move in Pakistan’s ride-hailing landscape, introducing electric vehicles for sustainable mobility.</p>\\n', 'He added that the primary aim of this collaboration was to reduce emissions and promote eco-friendly transport.</p>\\n', 'In addition to this, InDrive launched a contest aimed at promoting awareness about EVs and environmental sustainability. The contest will reward the best-performing drivers with free EV bikes.</p>\\n', 'InDrive is a global ride-hailing platform founded in 2013. Overall, it operates in over 450 cities across 46 countries. It allows customers to set fares based on real-time demand and market conditions, ensuring a transparent pricing system for both passengers and drivers.</p>\\n<h2><a id=\"about-vlektra\" href=\"#about-vlektra\" class=\"heading-permalink\" aria-hidden=\"true\" title=\"Permalink\"></a>About Vlektra</h2>\\n', 'Vlektra is a Pakistani startup which provides eco-friendly and sustainable electric vehicle solutions. Founded in 2021, Vlektra is “committed to reducing Pakistan’s carbon footprint and promoting sustainable mobility through its innovative EV technology.” The company offers a range of electric bikes and scooters designed for everyday use.</p>']\n"
     ]
    }
   ],
   "source": [
    "more_clean = clean.split(\"<p>\")\n",
    "print(more_clean)"
   ]
  },
  {
   "cell_type": "code",
   "execution_count": 45,
   "metadata": {},
   "outputs": [
    {
     "name": "stdout",
     "output_type": "stream",
     "text": [
      ", it said: “This marked a significant milestone in the nation’s transportation landscape, driving the country towards a sustainable future.”\n",
      "\n",
      "By doing so, InDrive said it has become the first ride-hailing company to integrate EVs. This move signifies a step towards reducing emissions and promoting environmental sustainability.\n",
      "\n",
      "“This collaboration between inDrive and Vlektra marks an exciting step forward in our commitment to sustainability and innovation in Pakistan,” said Roman Ermoshin, director of the APAC region at inDrive.\n",
      "\n",
      "“This partnership signifies our concerted effort to introduce electric bikes, driving a significant shift towards a cleaner, more eco-conscious future in the region.”\n",
      "\n",
      "Fatiq Bin Khursheed, Co-founder of Vlektra, echoed this sentiment, stating, “Vlektra’s partnership with inDrive heralds a pioneering move in Pakistan’s ride-hailing landscape, introducing electric vehicles for sustainable mobility.\n",
      "\n",
      "He added that the primary aim of this collaboration was to reduce emissions and promote eco-friendly transport.\n",
      "\n",
      "In addition to this, InDrive launched a contest aimed at promoting awareness about EVs and environmental sustainability. The contest will reward the best-performing drivers with free EV bikes.\n",
      "\n",
      "InDrive is a global ride-hailing platform founded in 2013. Overall, it operates in over 450 cities across 46 countries. It allows customers to set fares based on real-time demand and market conditions, ensuring a transparent pricing system for both passengers and drivers.\n",
      "<h2><a id=\"about-vlektra\" href=\"#about-vlektra\" class=\"heading-permalink\" aria-hidden=\"true\" title=\"Permalink\"></a>About Vlektra</h2>\n",
      "\n",
      "Vlektra is a Pakistani startup which provides eco-friendly and sustainable electric vehicle solutions. Founded in 2021, Vlektra is “committed to reducing Pakistan’s carbon footprint and promoting sustainable mobility through its innovative EV technology.” The company offers a range of electric bikes and scooters designed for everyday use.\n"
     ]
    }
   ],
   "source": [
    "# above is not good approach to clea we use replace\n",
    "more_clean = clean.replace(\"<p>\",'\\n')\n",
    "more_more_clean = more_clean.replace(\"</p>\",\"\")\n",
    "print(more_more_clean)"
   ]
  },
  {
   "cell_type": "code",
   "execution_count": 49,
   "metadata": {},
   "outputs": [],
   "source": [
    "# how to save it \n",
    "file = open(\"down.txt\",'w')\n",
    "file.write(more_more_clean)\n",
    "file.close()"
   ]
  },
  {
   "cell_type": "code",
   "execution_count": 50,
   "metadata": {},
   "outputs": [],
   "source": [
    "# not necessary but\n",
    "# try it \n",
    "# what functions we dicussed above\n",
    "# go to any article\n",
    "# get the article structure and save it in txt file just like we did\n",
    "# apply different function saccording to your need"
   ]
  },
  {
   "cell_type": "code",
   "execution_count": 10,
   "metadata": {},
   "outputs": [
    {
     "name": "stdout",
     "output_type": "stream",
     "text": [
      "<class 'str'>\n",
      "e that mimics polar bear fur offers as much warmth as a down jacket, despite being one-fifth as thick, according to a study published today in <i>Science</i><sup><a href=\"#ref-CR1\" data-track=\"click\" data-action=\"anchor-link\" data-track-label=\"go to reference\" data-track-category=\"references\">1</a></sup>. The fibre — made from a light, synthetic material known as an aerogel — maintains its heat-trapping properties even after being stretched, washed and dyed.</p><p>The proof-of-concept fibre might one day be used for clothing that need to be lightweight and durable — such as sportswear, military uniforms and spacesuits — without the need for animal fur or down, says study co-author Weiwei Gao, a materials scientist at Zhejiang University in China.</p><p>Studies have found that aerogels are among the best heat-locking materials around<sup><a href=\"#ref-CR2\" data-track=\"click\" data-action=\"anchor-link\" data-track-label=\"go to reference\" data-track-category=\"references\">2</a></sup>, and they have been used as insulation in buildings<sup><a href=\"#ref-CR3\" data-track=\"click\" data-action=\"anchor-link\" data-track-label=\"go to reference\" data-track-category=\"references\">3</a></sup>. But fibres made from aerogels are often too brittle and fragile to be weaved into wearable textiles, and they tend to lose their insulating properties after \n"
     ]
    },
    {
     "data": {
      "text/plain": [
       "<function TextIOWrapper.close()>"
      ]
     },
     "execution_count": 10,
     "metadata": {},
     "output_type": "execute_result"
    }
   ],
   "source": [
    "\n",
    "\n",
    "\n",
    "import requests\n",
    "data = requests.get(\"https://www.nature.com/articles/d41586-023-04145-5\")\n",
    "data = data.text\n",
    "print(type(data))\n",
    "artical = data.split(\"sweater knitted from a fibr\")#.split(\"\\d\\d    </div>\\n\")\n",
    "\n",
    "art2 = artical[1].split(\"washing and in humid environments.\")\n",
    "abc = art2[0]\n",
    "print(abc)\n",
    "\n",
    "file = open(\"down.txt\", 'w')\n",
    "file.write(abc)\n",
    "file.close"
   ]
  },
  {
   "cell_type": "code",
   "execution_count": 16,
   "metadata": {},
   "outputs": [
    {
     "name": "stdout",
     "output_type": "stream",
     "text": [
      "['not useful not useful ', 'this is very usefull and we have to collect it>> not useful not need']\n",
      "this is very usefull and we have to collect it>> not useful not need\n",
      "['this is very usefull and we have to collect it', ' not useful not need']\n",
      "this is very usefull and we have to collect it\n"
     ]
    }
   ],
   "source": [
    "all_text = \"not useful not useful <<this is very usefull and we have to collect it>> not useful not need\"\n",
    "a = all_text.split(\"<<\")\n",
    "print(a)\n",
    "b = a[1]\n",
    "print(b)\n",
    "c = b.split(\">>\")\n",
    "print(c)\n",
    "d = c[0]\n",
    "print(d)"
   ]
  },
  {
   "cell_type": "code",
   "execution_count": 18,
   "metadata": {},
   "outputs": [
    {
     "name": "stdout",
     "output_type": "stream",
     "text": [
      "<built-in method upper of str object at 0x000001EA4116EC70>\n",
      "HI MY NAME IS MIKAEL\n"
     ]
    }
   ],
   "source": [
    "# write a sentence as string and make i upper case\n",
    "\n",
    "\n",
    "sentence = \"hi my name is mikael\"\n",
    "print(sentence.upper) # this is a built in method we can see it only when we will call it\n",
    "print(sentence.upper() )\n"
   ]
  },
  {
   "cell_type": "code",
   "execution_count": 20,
   "metadata": {},
   "outputs": [
    {
     "name": "stdout",
     "output_type": "stream",
     "text": [
      "Hi My Name Is Mikael\n"
     ]
    }
   ],
   "source": [
    "print(sentence.title())\n",
    "\n"
   ]
  },
  {
   "cell_type": "code",
   "execution_count": 22,
   "metadata": {},
   "outputs": [
    {
     "name": "stdout",
     "output_type": "stream",
     "text": [
      "hi my name is umair\n"
     ]
    }
   ],
   "source": [
    "print(sentence.replace(\"mikael\" , \"umair\"))"
   ]
  },
  {
   "cell_type": "code",
   "execution_count": 25,
   "metadata": {},
   "outputs": [
    {
     "name": "stdout",
     "output_type": "stream",
     "text": [
      "['sebatian', 'keaton', 'colin', 'oliver', 'hisan']\n"
     ]
    }
   ],
   "source": [
    "# make a string of all of you firends and separate them with comma\n",
    "friends = \"sebatian, keaton, colin, oliver, hisan\"\n",
    "print(friends.split(\", \"))\n"
   ]
  },
  {
   "cell_type": "code",
   "execution_count": 26,
   "metadata": {},
   "outputs": [],
   "source": [
    "# in data types we have int, float,string"
   ]
  },
  {
   "cell_type": "code",
   "execution_count": 2,
   "metadata": {},
   "outputs": [
    {
     "name": "stdout",
     "output_type": "stream",
     "text": [
      "['mikael', 'almeer', 'rook', 'papa']\n"
     ]
    }
   ],
   "source": [
    "family = [\"mikael\",\"almeer\",\"mama\",\"papa\"]\n",
    "family[2] = \"rook\"\n",
    "print(family)"
   ]
  }
 ],
 "metadata": {
  "kernelspec": {
   "display_name": "Python 3",
   "language": "python",
   "name": "python3"
  },
  "language_info": {
   "codemirror_mode": {
    "name": "ipython",
    "version": 3
   },
   "file_extension": ".py",
   "mimetype": "text/x-python",
   "name": "python",
   "nbconvert_exporter": "python",
   "pygments_lexer": "ipython3",
   "version": "3.12.0"
  }
 },
 "nbformat": 4,
 "nbformat_minor": 2
}
