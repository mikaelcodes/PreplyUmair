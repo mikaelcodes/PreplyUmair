{
 "cells": [
  {
   "cell_type": "code",
   "execution_count": 4,
   "metadata": {},
   "outputs": [],
   "source": [
    "x = \"hello my name is umair and i am a python tutor\""
   ]
  },
  {
   "cell_type": "code",
   "execution_count": 2,
   "metadata": {},
   "outputs": [
    {
     "data": {
      "text/plain": [
       "'python is python'"
      ]
     },
     "execution_count": 2,
     "metadata": {},
     "output_type": "execute_result"
    }
   ],
   "source": [
    "y = \"python\"\n",
    "f\"{y} is {y}\""
   ]
  },
  {
   "cell_type": "code",
   "execution_count": 8,
   "metadata": {},
   "outputs": [
    {
     "name": "stdout",
     "output_type": "stream",
     "text": [
      "python is present \n"
     ]
    }
   ],
   "source": [
    "if (y) in x:\n",
    "    print(\"python is present \")\n",
    "else:\n",
    "    print(\"python is not present\")"
   ]
  },
  {
   "cell_type": "code",
   "execution_count": 8,
   "metadata": {},
   "outputs": [
    {
     "name": "stdout",
     "output_type": "stream",
     "text": [
      "colin is present \n"
     ]
    }
   ],
   "source": [
    "x = \"sebastian,keaton,colin,oliver,hisan,musa,ahmed,mustafa,max,tommy,jet,wesly,matthew,ben,liran\"\n",
    "y = input(\"pelase enter the name which you want to confirm if present or not\")\n",
    "if (y) in x:\n",
    "    print(f\"{y} is present \")\n",
    "else:\n",
    "    print(f\"{y} is not present\")"
   ]
  },
  {
   "cell_type": "code",
   "execution_count": 12,
   "metadata": {},
   "outputs": [
    {
     "data": {
      "text/plain": [
       "True"
      ]
     },
     "execution_count": 12,
     "metadata": {},
     "output_type": "execute_result"
    }
   ],
   "source": [
    "a = \"Apple\"\n",
    "a[0].isupper() #his is of a function"
   ]
  },
  {
   "cell_type": "code",
   "execution_count": 13,
   "metadata": {},
   "outputs": [],
   "source": [
    "# make a program to ask te user to write a name\n",
    "# if the first letter of name is not capital please askk rewrite"
   ]
  },
  {
   "cell_type": "code",
   "execution_count": 19,
   "metadata": {},
   "outputs": [
    {
     "name": "stdout",
     "output_type": "stream",
     "text": [
      "try again\n",
      "hello mikael\n"
     ]
    }
   ],
   "source": [
    "x = \"sebastian,keaton,colin,oliver,hisan,musa,ahmed,mustafa,max,tommy,jet,wesly,matthew,ben,liran\"\n",
    "y =input(\"please write the name\")\n",
    "if y[0].isupper():\n",
    "    print(\"good\")\n",
    "else:\n",
    "    print(\"try again\")\n",
    "print(f\"hello {y}\")"
   ]
  },
  {
   "cell_type": "code",
   "execution_count": 2,
   "metadata": {},
   "outputs": [
    {
     "name": "stdout",
     "output_type": "stream",
     "text": [
      "try again\n",
      "hello Mikael\n"
     ]
    }
   ],
   "source": [
    "y =input(\"please write the name\")\n",
    "while not y[0].isupper():\n",
    "    if y[0].isupper():\n",
    "        print(\"good\")\n",
    "    else:\n",
    "        print(\"try again\")\n",
    "    y =input(\"please write the name\")\n",
    "print(f\"hello {y}\")"
   ]
  },
  {
   "cell_type": "code",
   "execution_count": null,
   "metadata": {},
   "outputs": [],
   "source": []
  },
  {
   "cell_type": "code",
   "execution_count": 13,
   "metadata": {},
   "outputs": [
    {
     "name": "stdout",
     "output_type": "stream",
     "text": [
      "welcome\n"
     ]
    }
   ],
   "source": [
    "# make a simple command line application\n",
    "\n",
    "# it will ask user to enter the username\n",
    "# if username is not in list it should say sorry username not found and try again\n",
    "# if username is found then please ask to enter password if password is correct then login\n",
    "# if password is wrong then as to enter username again\n",
    "reg = ['mikael','umairali','umar']\n",
    "passs = 'apple'\n",
    "z,x = \"\", \"\"\n",
    "while not (x in reg and z==\"apple\"):\n",
    "    x =input(\"please enter your username\")\n",
    "\n",
    "    if (x) in reg:\n",
    "        z = input(\"enter your password\")\n",
    "        if (z) == passs:\n",
    "            print(\"welcome\")\n",
    "        else:\n",
    "            print(\"wrong password\")\n",
    "    else:\n",
    "        print(\"try again\")\n",
    "        "
   ]
  },
  {
   "cell_type": "code",
   "execution_count": 14,
   "metadata": {},
   "outputs": [],
   "source": [
    "x = \"sebastian,keaton,colin,oliver,hisan,musa,ahmed,mustafa,max,tommy,jet,wesly,matthew,ben,liran\"\n"
   ]
  },
  {
   "cell_type": "code",
   "execution_count": 15,
   "metadata": {},
   "outputs": [],
   "source": [
    "# print all those people name whi has letter o in their name\n",
    "# use split function with \",\" separator to y = x.split(',') it wil give you list of friend\n",
    "# run for loop over it and if conditon to see if o is presnet then print"
   ]
  },
  {
   "cell_type": "code",
   "execution_count": 22,
   "metadata": {},
   "outputs": [
    {
     "name": "stdout",
     "output_type": "stream",
     "text": [
      "sebastian has s in it\n",
      "keaton\n",
      "colin\n",
      "oliver\n",
      "hisan has s in it\n",
      "musa has s in it\n",
      "ahmed\n",
      "mustafa has s in it\n",
      "max\n",
      "tommy\n",
      "jet\n",
      "wesly has s in it\n",
      "matthew\n",
      "ben\n",
      "liran\n"
     ]
    }
   ],
   "source": [
    "y = x.split(',')\n",
    "ltr = \"s\"\n",
    "for each in y:\n",
    "    if ltr in each:\n",
    "        print(f'{each} has {ltr} in it')\n",
    "    else:\n",
    "        print(each)"
   ]
  },
  {
   "cell_type": "code",
   "execution_count": null,
   "metadata": {},
   "outputs": [],
   "source": []
  },
  {
   "cell_type": "code",
   "execution_count": 64,
   "metadata": {},
   "outputs": [
    {
     "name": "stdout",
     "output_type": "stream",
     "text": [
      "player wins\n"
     ]
    }
   ],
   "source": [
    "import random as rd \n",
    "x = rd.randint(0,2)\n",
    "rules = ['paper','rock','scissors']\n",
    "computer = rules[x]\n",
    "\n",
    "players = input(f\"please select any from {rules}\")\n",
    "# write alll possible ways in which computer winds\n",
    "\n",
    "if computer == players:\n",
    "    print(\"this round is a draw \")\n",
    "elif (computer == \"rock\" and players == \"scissors\") or(computer == \"scissors\" and players == \"paper\")or(computer == \"paper\" and players == \"rock\"):\n",
    "    print(\"computer wins\") \n",
    "else:\n",
    "    print(\"player wins\")\n",
    "    # lst.append(\"p\")"
   ]
  },
  {
   "cell_type": "code",
   "execution_count": 65,
   "metadata": {},
   "outputs": [],
   "source": [
    "# optional \n",
    "# make it 5 round, and count how many times out of 5 computer won and how many time out of 5 players"
   ]
  },
  {
   "cell_type": "code",
   "execution_count": null,
   "metadata": {},
   "outputs": [],
   "source": [
    "# you will for loop if player wins then applen ' and if computer wins append 'c' and in draw case write ad\n"
   ]
  }
 ],
 "metadata": {
  "kernelspec": {
   "display_name": "Python 3",
   "language": "python",
   "name": "python3"
  },
  "language_info": {
   "codemirror_mode": {
    "name": "ipython",
    "version": 3
   },
   "file_extension": ".py",
   "mimetype": "text/x-python",
   "name": "python",
   "nbconvert_exporter": "python",
   "pygments_lexer": "ipython3",
   "version": "3.12.0"
  }
 },
 "nbformat": 4,
 "nbformat_minor": 2
}
