{
 "cells": [
  {
   "cell_type": "code",
   "execution_count": 1,
   "metadata": {},
   "outputs": [],
   "source": [
    "x= [\"10\",\"20\",\"30\",\"40\"]\n",
    "# is it a number or string\n"
   ]
  },
  {
   "cell_type": "code",
   "execution_count": 4,
   "metadata": {},
   "outputs": [
    {
     "data": {
      "text/plain": [
       "'1010101010'"
      ]
     },
     "execution_count": 4,
     "metadata": {},
     "output_type": "execute_result"
    }
   ],
   "source": [
    "x[0] * 5 # it is suposed to be 50"
   ]
  },
  {
   "cell_type": "code",
   "execution_count": 9,
   "metadata": {},
   "outputs": [
    {
     "data": {
      "text/plain": [
       "180"
      ]
     },
     "execution_count": 9,
     "metadata": {},
     "output_type": "execute_result"
    }
   ],
   "source": [
    "m = \"90930324\"\n",
    "int(m)* 2"
   ]
  },
  {
   "cell_type": "code",
   "execution_count": 12,
   "metadata": {},
   "outputs": [
    {
     "name": "stdout",
     "output_type": "stream",
     "text": [
      "101010101010\n",
      "60\n",
      "202020202020\n",
      "120\n",
      "303030303030\n",
      "180\n",
      "404040404040\n",
      "240\n"
     ]
    }
   ],
   "source": [
    "for each in x:\n",
    "    print(each * 6)\n",
    "    print(int(each)*6)"
   ]
  },
  {
   "cell_type": "code",
   "execution_count": 14,
   "metadata": {},
   "outputs": [
    {
     "data": {
      "text/plain": [
       "40207"
      ]
     },
     "execution_count": 14,
     "metadata": {},
     "output_type": "execute_result"
    }
   ],
   "source": [
    "x = 200\n",
    "y = x**2 + x + 7\n",
    "\n"
   ]
  },
  {
   "cell_type": "code",
   "execution_count": 17,
   "metadata": {},
   "outputs": [
    {
     "name": "stdout",
     "output_type": "stream",
     "text": [
      "43 9510\n",
      "4 111\n",
      "32 5319\n",
      "4 111\n",
      "23 2790\n",
      "4 111\n",
      "5 162\n",
      "32 5319\n",
      "34 5991\n",
      "5 162\n",
      "32 5319\n",
      "5 162\n",
      "23 2790\n",
      "5 162\n",
      "3 70\n",
      "44 9951\n"
     ]
    }
   ],
   "source": [
    "KK = [43,4,32,4,23,4,5,32,34,5,32,5,23,5,3,44]\n",
    "for x in KK:\n",
    "    y =5*x**2 + 6*x + 7\n",
    "    print(x,y)\n"
   ]
  },
  {
   "cell_type": "code",
   "execution_count": 9,
   "metadata": {},
   "outputs": [
    {
     "name": "stdout",
     "output_type": "stream",
     "text": [
      "1 21.605276\n",
      "3 64.815828\n",
      "3.3 71.2974108\n",
      "4 86.421104\n",
      "6 129.631656\n",
      "10 216.05275999999998\n",
      "20 432.10551999999996\n",
      "30 648.15828\n",
      "40 864.2110399999999\n",
      "50 1080.2638\n",
      "60 1296.31656\n",
      "70 1512.3693199999998\n",
      "80 1728.4220799999998\n",
      "90 1944.47484\n",
      "10 216.05275999999998\n"
     ]
    }
   ],
   "source": [
    "masses = [1,3,3.3,4,6,10,20,30,40,50,60,70,80,90,10]\n",
    "# F = m*g  #\n",
    "# force of gravity on the body for all using for loop and print results against each value\n",
    "for m in masses:\n",
    "    F = 9.8*m*2.20462\n",
    "    print(m,F)"
   ]
  },
  {
   "cell_type": "code",
   "execution_count": 13,
   "metadata": {},
   "outputs": [
    {
     "name": "stdout",
     "output_type": "stream",
     "text": [
      "1 54.538000000000004\n",
      "3 163.61400000000003\n",
      "3.3 179.97539999999998\n",
      "4 218.15200000000002\n",
      "6 327.22800000000007\n",
      "10 545.38\n",
      "20 1090.76\n",
      "30 1636.1399999999999\n",
      "40 2181.52\n",
      "50 2726.9\n",
      "60 3272.2799999999997\n",
      "70 3817.6600000000003\n",
      "80 4363.04\n",
      "90 4908.42\n",
      "10 545.38\n"
     ]
    }
   ],
   "source": [
    "# you will be surprise what if a man falls from plan to a Moon what will be the force\n",
    "for m in masses:\n",
    "    F = 24.79*m*2.20\n",
    "    print(m,F)"
   ]
  },
  {
   "cell_type": "code",
   "execution_count": 14,
   "metadata": {},
   "outputs": [],
   "source": [
    "#  what will be your weight on jupyter\n",
    "\n"
   ]
  },
  {
   "cell_type": "code",
   "execution_count": 23,
   "metadata": {},
   "outputs": [
    {
     "name": "stdout",
     "output_type": "stream",
     "text": [
      "56 56\n",
      "7710 7654\n",
      "7758 48\n",
      "7759 1\n",
      "7761 2\n",
      "7764 3\n",
      "7768 4\n",
      "7773 5\n",
      "7778 5\n",
      "8314 536\n"
     ]
    }
   ],
   "source": [
    "d = [56,7654,48,1,2,3,4,5,5,536]\n",
    "# what is total sum of this, fin dusing for loop select one by one a number and keep on addin it to main \n",
    "total = 0\n",
    "\n",
    "for j in d:\n",
    "    total = total+j\n",
    "    print(total,j)\n",
    "    \n"
   ]
  },
  {
   "cell_type": "code",
   "execution_count": 14,
   "metadata": {},
   "outputs": [
    {
     "name": "stdout",
     "output_type": "stream",
     "text": [
      "10 10\n",
      "40 30\n",
      "63 23\n",
      "68 5\n",
      "77 9\n",
      "81 4\n",
      "83 2\n",
      "88 5\n",
      "92 4\n",
      "97 5\n"
     ]
    }
   ],
   "source": [
    "# using for loop find the minimum value\n",
    "# take a very very big number, if number is  smaller than current number \n",
    "f = [10,30,23,5,9,4,2,5,4,5]\n",
    "age = 0\n",
    "for g in f:\n",
    "    age = age+g\n",
    "    print(age,g)\n"
   ]
  },
  {
   "cell_type": "code",
   "execution_count": 17,
   "metadata": {},
   "outputs": [
    {
     "name": "stdout",
     "output_type": "stream",
     "text": [
      "-1\n"
     ]
    }
   ],
   "source": [
    "# using for loop find the minimum value\n",
    "# take a very very big number, if number is  smaller than current number \n",
    "f = [10,30,23,5,9,4,2,5,4,3,432,4324,\n",
    "     3432,432,432,432,4,-1,5]\n",
    "age = 10000000000000000000000000000000\n",
    "for g in f:\n",
    "    if g <age:\n",
    "        age = g\n",
    "print(age)\n"
   ]
  },
  {
   "cell_type": "code",
   "execution_count": 2,
   "metadata": {},
   "outputs": [
    {
     "name": "stdout",
     "output_type": "stream",
     "text": [
      "up 10\n",
      "up 30\n",
      "up 432\n",
      "up 4324\n",
      "4324\n"
     ]
    }
   ],
   "source": [
    "# using for loop find maximum value\n",
    "f = [10,30,23,5,9,4,2,5,4,3,432,4324,3432,432,432,432,4,-1,5]\n",
    "age = -44848842754387348\n",
    "for h in f:\n",
    "    if h >age:\n",
    "        age = h\n",
    "        print('up',age)\n",
    "print(age)\n"
   ]
  },
  {
   "cell_type": "code",
   "execution_count": 3,
   "metadata": {},
   "outputs": [
    {
     "data": {
      "text/plain": [
       "[10, 30, 23, 5, 9, 4, 2, 5, 4, 3, 432, 4324, 3432, 432, 432, 432, 4, -1, 5]"
      ]
     },
     "execution_count": 3,
     "metadata": {},
     "output_type": "execute_result"
    }
   ],
   "source": [
    "f"
   ]
  },
  {
   "cell_type": "code",
   "execution_count": 24,
   "metadata": {},
   "outputs": [
    {
     "name": "stdout",
     "output_type": "stream",
     "text": [
      "9587\n"
     ]
    }
   ],
   "source": [
    "# find total sum of lis f\n",
    "f = [10,30,23,5,9,4,2,5,4,3,432,4324, 3432,432,432,432,4,-1,5]\n",
    "sum = 0\n",
    "for j in f:\n",
    "    sum = sum+j\n",
    "print(sum)"
   ]
  },
  {
   "cell_type": "code",
   "execution_count": 25,
   "metadata": {},
   "outputs": [
    {
     "name": "stdout",
     "output_type": "stream",
     "text": [
      "19\n"
     ]
    }
   ],
   "source": [
    "f = [10,30,23,5,9,4,2,5,4,3,432,4324, 3432,432,432,432,4,-1,5]\n",
    "lenght = 0\n",
    "for z in f:\n",
    "    lenght = lenght+1\n",
    "print(lenght)"
   ]
  },
  {
   "cell_type": "code",
   "execution_count": 27,
   "metadata": {},
   "outputs": [
    {
     "name": "stdout",
     "output_type": "stream",
     "text": [
      "504.57894736842104\n"
     ]
    }
   ],
   "source": [
    "average = sum/lenght\n",
    "print(average)"
   ]
  },
  {
   "cell_type": "code",
   "execution_count": 32,
   "metadata": {},
   "outputs": [
    {
     "ename": "TypeError",
     "evalue": "unsupported operand type(s) for -: 'list' and 'int'",
     "output_type": "error",
     "traceback": [
      "\u001b[1;31m---------------------------------------------------------------------------\u001b[0m",
      "\u001b[1;31mTypeError\u001b[0m                                 Traceback (most recent call last)",
      "Cell \u001b[1;32mIn[32], line 5\u001b[0m\n\u001b[0;32m      3\u001b[0m f \u001b[38;5;241m=\u001b[39m [\u001b[38;5;241m10\u001b[39m,\u001b[38;5;241m30\u001b[39m,\u001b[38;5;241m23\u001b[39m,\u001b[38;5;241m5\u001b[39m,\u001b[38;5;241m9\u001b[39m,\u001b[38;5;241m4\u001b[39m,\u001b[38;5;241m2\u001b[39m,\u001b[38;5;241m5\u001b[39m,\u001b[38;5;241m4\u001b[39m,\u001b[38;5;241m3\u001b[39m,\u001b[38;5;241m432\u001b[39m,\u001b[38;5;241m4324\u001b[39m, \u001b[38;5;241m3432\u001b[39m,\u001b[38;5;241m432\u001b[39m,\u001b[38;5;241m432\u001b[39m,\u001b[38;5;241m432\u001b[39m,\u001b[38;5;241m4\u001b[39m,\u001b[38;5;241m-\u001b[39m\u001b[38;5;241m1\u001b[39m,\u001b[38;5;241m5\u001b[39m]\n\u001b[0;32m      4\u001b[0m average \u001b[38;5;241m=\u001b[39m \u001b[38;5;241m100\u001b[39m\n\u001b[1;32m----> 5\u001b[0m diffrence \u001b[38;5;241m=\u001b[39m \u001b[43mf\u001b[49m\u001b[38;5;241;43m-\u001b[39;49m\u001b[43maverage\u001b[49m\n\u001b[0;32m      6\u001b[0m \u001b[38;5;28mprint\u001b[39m(diffrence)\n",
      "\u001b[1;31mTypeError\u001b[0m: unsupported operand type(s) for -: 'list' and 'int'"
     ]
    }
   ],
   "source": [
    "#from a list can you find the closet number to the number given\n",
    "\n",
    "f = [10,30,23,5,9,4,2,5,4,3,432,4324, 3432,432,432,432,4,-1,5]\n",
    "average = 100\n",
    "diffrence = f average\n",
    "print(diffrence)"
   ]
  },
  {
   "cell_type": "code",
   "execution_count": 41,
   "metadata": {},
   "outputs": [
    {
     "name": "stdout",
     "output_type": "stream",
     "text": [
      "[490, 470, 477, 495, 491, 496, 498, 495, 496, 497, 68, 3824, 2932, 68, 67, 68, 496, 501, 495]\n"
     ]
    },
    {
     "data": {
      "text/plain": [
       "433"
      ]
     },
     "execution_count": 41,
     "metadata": {},
     "output_type": "execute_result"
    }
   ],
   "source": [
    " \n",
    "\n",
    "\n",
    "f = [10,30,23,5,9,4,2,5,4,3,432,4324,\n",
    "     3432,432,433,432,4,-1,5]\n",
    "\n",
    "g = []\n",
    "n = 500\n",
    "for i in f:\n",
    "    g.append(abs(i-n))\n",
    "print(g)\n",
    "g.index(min(g))\n",
    "ind = g.index(min(g))\n",
    "f[ind]"
   ]
  },
  {
   "cell_type": "code",
   "execution_count": 51,
   "metadata": {},
   "outputs": [],
   "source": [
    "def mikael(f,n):\n",
    "    g = []\n",
    "\n",
    "    for i in f:\n",
    "        g.append(abs(i-n))\n",
    " \n",
    "    g.index(min(g))\n",
    "    ind = g.index(min(g))\n",
    "    return f[ind]\n"
   ]
  },
  {
   "cell_type": "code",
   "execution_count": 50,
   "metadata": {},
   "outputs": [
    {
     "name": "stdout",
     "output_type": "stream",
     "text": [
      "[4354858349858903485904389058292, 4354858349858903485904389058305, 4354858349858903485904389058281, 4354858349858903485904389058261, 4354858349858903485904389057781, 4354858349858903485904389057583]\n"
     ]
    },
    {
     "data": {
      "text/plain": [
       "765"
      ]
     },
     "execution_count": 50,
     "metadata": {},
     "output_type": "execute_result"
    }
   ],
   "source": [
    "mikael([56,43,67,87,567,765],4354858349858903485904389058348)"
   ]
  },
  {
   "cell_type": "code",
   "execution_count": 53,
   "metadata": {},
   "outputs": [
    {
     "data": {
      "text/plain": [
       "56"
      ]
     },
     "execution_count": 53,
     "metadata": {},
     "output_type": "execute_result"
    }
   ],
   "source": [
    "mikael([56,564,23,45,687,468876],67)"
   ]
  },
  {
   "cell_type": "code",
   "execution_count": 54,
   "metadata": {},
   "outputs": [],
   "source": [
    "def almeer(f,n):\n",
    "    g = []\n",
    "\n",
    "    for i in f:\n",
    "        g.append(abs(i-n))\n",
    " \n",
    " \n",
    "    ind = g.index(max(g))\n",
    "    return f[ind]\n"
   ]
  },
  {
   "cell_type": "code",
   "execution_count": 64,
   "metadata": {},
   "outputs": [
    {
     "data": {
      "text/plain": [
       "1"
      ]
     },
     "execution_count": 64,
     "metadata": {},
     "output_type": "execute_result"
    }
   ],
   "source": [
    "almeer([654,453,75,5613,765,1],389999999887777777787778755555555555555555555555555555555555555555555555555555555555555555555555523048977877787777777787870555555555555555555555555555555555555555555555555555555555555555555555555555538475982274874285893987475908560986034859038490584854083985084938049830589304853840584038503850384958398904380585890348503489053058058934859408058309808080398548038530985940)"
   ]
  },
  {
   "cell_type": "code",
   "execution_count": null,
   "metadata": {},
   "outputs": [],
   "source": [
    "# List of 20 fruits\n",
    "\n",
    "fruits = [\n",
    "    \"Apple\",\n",
    "    \"Banana\",\n",
    "    \"Cherry\",\n",
    "    \"Date\",\n",
    "    \"Elderberry\",\n",
    "    \"Fig\",\n",
    "    \"Grape\",\n",
    "    \"Honeydew\",\n",
    "    \"Indian Fig\",\n",
    "    \"Jackfruit\",\n",
    "    \"Kiwi\",\n",
    "    \"Lemon\",\n",
    "    \"Mango\",\n",
    "    \"Nectarine\",\n",
    "    \"Orange\",\n",
    "    \"Papaya\",\n",
    "    \"Quince\",\n",
    "    \"Raspberry\",\n",
    "    \"Strawberry\",\n",
    "    \"Tangerine\"\n",
    "]\n",
    "\n",
    "fruits\n",
    "\n",
    "\n",
    "\n"
   ]
  },
  {
   "cell_type": "code",
   "execution_count": 65,
   "metadata": {},
   "outputs": [
    {
     "ename": "NameError",
     "evalue": "name 'fruits' is not defined",
     "output_type": "error",
     "traceback": [
      "\u001b[1;31m---------------------------------------------------------------------------\u001b[0m",
      "\u001b[1;31mNameError\u001b[0m                                 Traceback (most recent call last)",
      "Cell \u001b[1;32mIn[65], line 2\u001b[0m\n\u001b[0;32m      1\u001b[0m ltr\u001b[38;5;241m=\u001b[39m \u001b[38;5;124m\"\u001b[39m\u001b[38;5;124me\u001b[39m\u001b[38;5;124m\"\u001b[39m\n\u001b[1;32m----> 2\u001b[0m \u001b[38;5;28;01mfor\u001b[39;00m each \u001b[38;5;129;01min\u001b[39;00m \u001b[43mfruits\u001b[49m:\n\u001b[0;32m      3\u001b[0m     \u001b[38;5;28;01mif\u001b[39;00m ltr \u001b[38;5;129;01min\u001b[39;00m each:\n\u001b[0;32m      4\u001b[0m         \u001b[38;5;28mprint\u001b[39m(\u001b[38;5;124mf\u001b[39m\u001b[38;5;124m'\u001b[39m\u001b[38;5;132;01m{\u001b[39;00meach\u001b[38;5;132;01m}\u001b[39;00m\u001b[38;5;124m has \u001b[39m\u001b[38;5;132;01m{\u001b[39;00mltr\u001b[38;5;132;01m}\u001b[39;00m\u001b[38;5;124m in it\u001b[39m\u001b[38;5;124m'\u001b[39m)\n",
      "\u001b[1;31mNameError\u001b[0m: name 'fruits' is not defined"
     ]
    }
   ],
   "source": [
    "ltr= \"e\"\n",
    "for each in fruits:\n",
    "    if ltr in each:\n",
    "        print(f'{each} has {ltr} in it')\n",
    "    else:\n",
    "        print(each)"
   ]
  },
  {
   "cell_type": "code",
   "execution_count": null,
   "metadata": {},
   "outputs": [],
   "source": []
  }
 ],
 "metadata": {
  "kernelspec": {
   "display_name": "Python 3",
   "language": "python",
   "name": "python3"
  },
  "language_info": {
   "codemirror_mode": {
    "name": "ipython",
    "version": 3
   },
   "file_extension": ".py",
   "mimetype": "text/x-python",
   "name": "python",
   "nbconvert_exporter": "python",
   "pygments_lexer": "ipython3",
   "version": "3.12.0"
  }
 },
 "nbformat": 4,
 "nbformat_minor": 2
}
